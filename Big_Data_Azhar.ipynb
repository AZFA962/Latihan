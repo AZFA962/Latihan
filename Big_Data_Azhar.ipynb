{
  "cells": [
    {
      "cell_type": "markdown",
      "metadata": {
        "id": "view-in-github",
        "colab_type": "text"
      },
      "source": [
        "<a href=\"https://colab.research.google.com/github/BACKGORUND/Latihan/blob/main/Big_Data_Azhar.ipynb\" target=\"_parent\"><img src=\"https://colab.research.google.com/assets/colab-badge.svg\" alt=\"Open In Colab\"/></a>"
      ]
    },
    {
      "cell_type": "code",
      "execution_count": null,
      "metadata": {
        "id": "lFeV9pfxMut-"
      },
      "outputs": [],
      "source": [
        "import numpy as np\n",
        "import pandas as pd\n",
        "df=pd.read_csv('https://raw.githubusercontent.com/DianCA26/Dataset/main/dataset_sms_spam%20_v1.csv',sep=\",\")"
      ]
    },
    {
      "cell_type": "code",
      "source": [],
      "metadata": {
        "id": "8AP7Dq1inpga"
      },
      "execution_count": null,
      "outputs": []
    },
    {
      "cell_type": "markdown",
      "metadata": {
        "id": "kDuAq1NYMyUc"
      },
      "source": []
    },
    {
      "cell_type": "code",
      "execution_count": null,
      "metadata": {
        "colab": {
          "base_uri": "https://localhost:8080/"
        },
        "id": "FJTckZVqM0LD",
        "outputId": "981e65a6-356c-4d97-8ab1-fd46337c93e1"
      },
      "outputs": [
        {
          "output_type": "execute_result",
          "data": {
            "text/plain": [
              "(1143, 2)"
            ]
          },
          "metadata": {},
          "execution_count": 2
        }
      ],
      "source": [
        "df.shape"
      ]
    },
    {
      "cell_type": "code",
      "execution_count": null,
      "metadata": {
        "colab": {
          "base_uri": "https://localhost:8080/",
          "height": 206
        },
        "id": "kWVa-_OZM2sc",
        "outputId": "251d7f7f-7e12-404e-8813-baff01a6ecff"
      },
      "outputs": [
        {
          "output_type": "execute_result",
          "data": {
            "text/plain": [
              "                                                   Teks  label\n",
              "1138     Yooo sama2, oke nanti aku umumin di grup kelas      0\n",
              "1139  😁 sebelumnya ga ad nulis kerudung. Kirain warn...      0\n",
              "1140                               Mba mau kirim 300 ya      0\n",
              "1141  nama1  beaok bwrangkat pagi...mau cas atay tra...      0\n",
              "1142                         No bri atas nama kamu mana      0"
            ],
            "text/html": [
              "\n",
              "  <div id=\"df-0e316be5-6c82-47ec-9d26-113587bb0f5c\">\n",
              "    <div class=\"colab-df-container\">\n",
              "      <div>\n",
              "<style scoped>\n",
              "    .dataframe tbody tr th:only-of-type {\n",
              "        vertical-align: middle;\n",
              "    }\n",
              "\n",
              "    .dataframe tbody tr th {\n",
              "        vertical-align: top;\n",
              "    }\n",
              "\n",
              "    .dataframe thead th {\n",
              "        text-align: right;\n",
              "    }\n",
              "</style>\n",
              "<table border=\"1\" class=\"dataframe\">\n",
              "  <thead>\n",
              "    <tr style=\"text-align: right;\">\n",
              "      <th></th>\n",
              "      <th>Teks</th>\n",
              "      <th>label</th>\n",
              "    </tr>\n",
              "  </thead>\n",
              "  <tbody>\n",
              "    <tr>\n",
              "      <th>1138</th>\n",
              "      <td>Yooo sama2, oke nanti aku umumin di grup kelas</td>\n",
              "      <td>0</td>\n",
              "    </tr>\n",
              "    <tr>\n",
              "      <th>1139</th>\n",
              "      <td>😁 sebelumnya ga ad nulis kerudung. Kirain warn...</td>\n",
              "      <td>0</td>\n",
              "    </tr>\n",
              "    <tr>\n",
              "      <th>1140</th>\n",
              "      <td>Mba mau kirim 300 ya</td>\n",
              "      <td>0</td>\n",
              "    </tr>\n",
              "    <tr>\n",
              "      <th>1141</th>\n",
              "      <td>nama1  beaok bwrangkat pagi...mau cas atay tra...</td>\n",
              "      <td>0</td>\n",
              "    </tr>\n",
              "    <tr>\n",
              "      <th>1142</th>\n",
              "      <td>No bri atas nama kamu mana</td>\n",
              "      <td>0</td>\n",
              "    </tr>\n",
              "  </tbody>\n",
              "</table>\n",
              "</div>\n",
              "      <button class=\"colab-df-convert\" onclick=\"convertToInteractive('df-0e316be5-6c82-47ec-9d26-113587bb0f5c')\"\n",
              "              title=\"Convert this dataframe to an interactive table.\"\n",
              "              style=\"display:none;\">\n",
              "        \n",
              "  <svg xmlns=\"http://www.w3.org/2000/svg\" height=\"24px\"viewBox=\"0 0 24 24\"\n",
              "       width=\"24px\">\n",
              "    <path d=\"M0 0h24v24H0V0z\" fill=\"none\"/>\n",
              "    <path d=\"M18.56 5.44l.94 2.06.94-2.06 2.06-.94-2.06-.94-.94-2.06-.94 2.06-2.06.94zm-11 1L8.5 8.5l.94-2.06 2.06-.94-2.06-.94L8.5 2.5l-.94 2.06-2.06.94zm10 10l.94 2.06.94-2.06 2.06-.94-2.06-.94-.94-2.06-.94 2.06-2.06.94z\"/><path d=\"M17.41 7.96l-1.37-1.37c-.4-.4-.92-.59-1.43-.59-.52 0-1.04.2-1.43.59L10.3 9.45l-7.72 7.72c-.78.78-.78 2.05 0 2.83L4 21.41c.39.39.9.59 1.41.59.51 0 1.02-.2 1.41-.59l7.78-7.78 2.81-2.81c.8-.78.8-2.07 0-2.86zM5.41 20L4 18.59l7.72-7.72 1.47 1.35L5.41 20z\"/>\n",
              "  </svg>\n",
              "      </button>\n",
              "      \n",
              "  <style>\n",
              "    .colab-df-container {\n",
              "      display:flex;\n",
              "      flex-wrap:wrap;\n",
              "      gap: 12px;\n",
              "    }\n",
              "\n",
              "    .colab-df-convert {\n",
              "      background-color: #E8F0FE;\n",
              "      border: none;\n",
              "      border-radius: 50%;\n",
              "      cursor: pointer;\n",
              "      display: none;\n",
              "      fill: #1967D2;\n",
              "      height: 32px;\n",
              "      padding: 0 0 0 0;\n",
              "      width: 32px;\n",
              "    }\n",
              "\n",
              "    .colab-df-convert:hover {\n",
              "      background-color: #E2EBFA;\n",
              "      box-shadow: 0px 1px 2px rgba(60, 64, 67, 0.3), 0px 1px 3px 1px rgba(60, 64, 67, 0.15);\n",
              "      fill: #174EA6;\n",
              "    }\n",
              "\n",
              "    [theme=dark] .colab-df-convert {\n",
              "      background-color: #3B4455;\n",
              "      fill: #D2E3FC;\n",
              "    }\n",
              "\n",
              "    [theme=dark] .colab-df-convert:hover {\n",
              "      background-color: #434B5C;\n",
              "      box-shadow: 0px 1px 3px 1px rgba(0, 0, 0, 0.15);\n",
              "      filter: drop-shadow(0px 1px 2px rgba(0, 0, 0, 0.3));\n",
              "      fill: #FFFFFF;\n",
              "    }\n",
              "  </style>\n",
              "\n",
              "      <script>\n",
              "        const buttonEl =\n",
              "          document.querySelector('#df-0e316be5-6c82-47ec-9d26-113587bb0f5c button.colab-df-convert');\n",
              "        buttonEl.style.display =\n",
              "          google.colab.kernel.accessAllowed ? 'block' : 'none';\n",
              "\n",
              "        async function convertToInteractive(key) {\n",
              "          const element = document.querySelector('#df-0e316be5-6c82-47ec-9d26-113587bb0f5c');\n",
              "          const dataTable =\n",
              "            await google.colab.kernel.invokeFunction('convertToInteractive',\n",
              "                                                     [key], {});\n",
              "          if (!dataTable) return;\n",
              "\n",
              "          const docLinkHtml = 'Like what you see? Visit the ' +\n",
              "            '<a target=\"_blank\" href=https://colab.research.google.com/notebooks/data_table.ipynb>data table notebook</a>'\n",
              "            + ' to learn more about interactive tables.';\n",
              "          element.innerHTML = '';\n",
              "          dataTable['output_type'] = 'display_data';\n",
              "          await google.colab.output.renderOutput(dataTable, element);\n",
              "          const docLink = document.createElement('div');\n",
              "          docLink.innerHTML = docLinkHtml;\n",
              "          element.appendChild(docLink);\n",
              "        }\n",
              "      </script>\n",
              "    </div>\n",
              "  </div>\n",
              "  "
            ]
          },
          "metadata": {},
          "execution_count": 3
        }
      ],
      "source": [
        "df.tail()"
      ]
    },
    {
      "cell_type": "code",
      "execution_count": null,
      "metadata": {
        "id": "ISikOU0ZM4qT"
      },
      "outputs": [],
      "source": [
        "df['Ket'] = df.label.map({1:'Spam',2:'Spam',0:'Bukan Spam'})\n",
        "df['label'] = df.Ket.map({'Spam':1,'Bukan Spam':0})"
      ]
    },
    {
      "cell_type": "code",
      "execution_count": null,
      "metadata": {
        "colab": {
          "base_uri": "https://localhost:8080/",
          "height": 363
        },
        "id": "7zotgQItNAW7",
        "outputId": "b68d1551-540a-4d1e-ebc1-af9306b741f2"
      },
      "outputs": [
        {
          "output_type": "execute_result",
          "data": {
            "text/plain": [
              "                                                  Teks  label         Ket\n",
              "452  PROMO LEBARAN.Paket Service Motor+Olie HANYA 3...      1        Spam\n",
              "29   Bebas Pulsa! Ambil bonusmu di *600# (GRATIS). ...      1        Spam\n",
              "828  Jadinya mau apa sok, sebagian dari uang kas? K...      0  Bukan Spam\n",
              "131  Mau Pergi Dari Hatiku nya Aliando di HP kamu? ...      1        Spam\n",
              "149  Nikmati EXTRA 2GB 4G LTE + EXTRA voucher belan...      1        Spam\n",
              "77   Hallo urang minang, ado sticker rancak di Grou...      1        Spam\n",
              "46   cuma Rp 7500 dapat nelpon dan SMS UNLIMITED ke...      1        Spam\n",
              "734                               Dimulai dari angka 0      0  Bukan Spam\n",
              "949  nama1 aku lg ngerjain tes ngoding di upi net, ...      0  Bukan Spam\n",
              "866    Kalo udah ad progres besok aja jam 2an kesini..      0  Bukan Spam"
            ],
            "text/html": [
              "\n",
              "  <div id=\"df-4cc09b10-0f5e-4137-b2e9-5e0ea72937e1\">\n",
              "    <div class=\"colab-df-container\">\n",
              "      <div>\n",
              "<style scoped>\n",
              "    .dataframe tbody tr th:only-of-type {\n",
              "        vertical-align: middle;\n",
              "    }\n",
              "\n",
              "    .dataframe tbody tr th {\n",
              "        vertical-align: top;\n",
              "    }\n",
              "\n",
              "    .dataframe thead th {\n",
              "        text-align: right;\n",
              "    }\n",
              "</style>\n",
              "<table border=\"1\" class=\"dataframe\">\n",
              "  <thead>\n",
              "    <tr style=\"text-align: right;\">\n",
              "      <th></th>\n",
              "      <th>Teks</th>\n",
              "      <th>label</th>\n",
              "      <th>Ket</th>\n",
              "    </tr>\n",
              "  </thead>\n",
              "  <tbody>\n",
              "    <tr>\n",
              "      <th>452</th>\n",
              "      <td>PROMO LEBARAN.Paket Service Motor+Olie HANYA 3...</td>\n",
              "      <td>1</td>\n",
              "      <td>Spam</td>\n",
              "    </tr>\n",
              "    <tr>\n",
              "      <th>29</th>\n",
              "      <td>Bebas Pulsa! Ambil bonusmu di *600# (GRATIS). ...</td>\n",
              "      <td>1</td>\n",
              "      <td>Spam</td>\n",
              "    </tr>\n",
              "    <tr>\n",
              "      <th>828</th>\n",
              "      <td>Jadinya mau apa sok, sebagian dari uang kas? K...</td>\n",
              "      <td>0</td>\n",
              "      <td>Bukan Spam</td>\n",
              "    </tr>\n",
              "    <tr>\n",
              "      <th>131</th>\n",
              "      <td>Mau Pergi Dari Hatiku nya Aliando di HP kamu? ...</td>\n",
              "      <td>1</td>\n",
              "      <td>Spam</td>\n",
              "    </tr>\n",
              "    <tr>\n",
              "      <th>149</th>\n",
              "      <td>Nikmati EXTRA 2GB 4G LTE + EXTRA voucher belan...</td>\n",
              "      <td>1</td>\n",
              "      <td>Spam</td>\n",
              "    </tr>\n",
              "    <tr>\n",
              "      <th>77</th>\n",
              "      <td>Hallo urang minang, ado sticker rancak di Grou...</td>\n",
              "      <td>1</td>\n",
              "      <td>Spam</td>\n",
              "    </tr>\n",
              "    <tr>\n",
              "      <th>46</th>\n",
              "      <td>cuma Rp 7500 dapat nelpon dan SMS UNLIMITED ke...</td>\n",
              "      <td>1</td>\n",
              "      <td>Spam</td>\n",
              "    </tr>\n",
              "    <tr>\n",
              "      <th>734</th>\n",
              "      <td>Dimulai dari angka 0</td>\n",
              "      <td>0</td>\n",
              "      <td>Bukan Spam</td>\n",
              "    </tr>\n",
              "    <tr>\n",
              "      <th>949</th>\n",
              "      <td>nama1 aku lg ngerjain tes ngoding di upi net, ...</td>\n",
              "      <td>0</td>\n",
              "      <td>Bukan Spam</td>\n",
              "    </tr>\n",
              "    <tr>\n",
              "      <th>866</th>\n",
              "      <td>Kalo udah ad progres besok aja jam 2an kesini..</td>\n",
              "      <td>0</td>\n",
              "      <td>Bukan Spam</td>\n",
              "    </tr>\n",
              "  </tbody>\n",
              "</table>\n",
              "</div>\n",
              "      <button class=\"colab-df-convert\" onclick=\"convertToInteractive('df-4cc09b10-0f5e-4137-b2e9-5e0ea72937e1')\"\n",
              "              title=\"Convert this dataframe to an interactive table.\"\n",
              "              style=\"display:none;\">\n",
              "        \n",
              "  <svg xmlns=\"http://www.w3.org/2000/svg\" height=\"24px\"viewBox=\"0 0 24 24\"\n",
              "       width=\"24px\">\n",
              "    <path d=\"M0 0h24v24H0V0z\" fill=\"none\"/>\n",
              "    <path d=\"M18.56 5.44l.94 2.06.94-2.06 2.06-.94-2.06-.94-.94-2.06-.94 2.06-2.06.94zm-11 1L8.5 8.5l.94-2.06 2.06-.94-2.06-.94L8.5 2.5l-.94 2.06-2.06.94zm10 10l.94 2.06.94-2.06 2.06-.94-2.06-.94-.94-2.06-.94 2.06-2.06.94z\"/><path d=\"M17.41 7.96l-1.37-1.37c-.4-.4-.92-.59-1.43-.59-.52 0-1.04.2-1.43.59L10.3 9.45l-7.72 7.72c-.78.78-.78 2.05 0 2.83L4 21.41c.39.39.9.59 1.41.59.51 0 1.02-.2 1.41-.59l7.78-7.78 2.81-2.81c.8-.78.8-2.07 0-2.86zM5.41 20L4 18.59l7.72-7.72 1.47 1.35L5.41 20z\"/>\n",
              "  </svg>\n",
              "      </button>\n",
              "      \n",
              "  <style>\n",
              "    .colab-df-container {\n",
              "      display:flex;\n",
              "      flex-wrap:wrap;\n",
              "      gap: 12px;\n",
              "    }\n",
              "\n",
              "    .colab-df-convert {\n",
              "      background-color: #E8F0FE;\n",
              "      border: none;\n",
              "      border-radius: 50%;\n",
              "      cursor: pointer;\n",
              "      display: none;\n",
              "      fill: #1967D2;\n",
              "      height: 32px;\n",
              "      padding: 0 0 0 0;\n",
              "      width: 32px;\n",
              "    }\n",
              "\n",
              "    .colab-df-convert:hover {\n",
              "      background-color: #E2EBFA;\n",
              "      box-shadow: 0px 1px 2px rgba(60, 64, 67, 0.3), 0px 1px 3px 1px rgba(60, 64, 67, 0.15);\n",
              "      fill: #174EA6;\n",
              "    }\n",
              "\n",
              "    [theme=dark] .colab-df-convert {\n",
              "      background-color: #3B4455;\n",
              "      fill: #D2E3FC;\n",
              "    }\n",
              "\n",
              "    [theme=dark] .colab-df-convert:hover {\n",
              "      background-color: #434B5C;\n",
              "      box-shadow: 0px 1px 3px 1px rgba(0, 0, 0, 0.15);\n",
              "      filter: drop-shadow(0px 1px 2px rgba(0, 0, 0, 0.3));\n",
              "      fill: #FFFFFF;\n",
              "    }\n",
              "  </style>\n",
              "\n",
              "      <script>\n",
              "        const buttonEl =\n",
              "          document.querySelector('#df-4cc09b10-0f5e-4137-b2e9-5e0ea72937e1 button.colab-df-convert');\n",
              "        buttonEl.style.display =\n",
              "          google.colab.kernel.accessAllowed ? 'block' : 'none';\n",
              "\n",
              "        async function convertToInteractive(key) {\n",
              "          const element = document.querySelector('#df-4cc09b10-0f5e-4137-b2e9-5e0ea72937e1');\n",
              "          const dataTable =\n",
              "            await google.colab.kernel.invokeFunction('convertToInteractive',\n",
              "                                                     [key], {});\n",
              "          if (!dataTable) return;\n",
              "\n",
              "          const docLinkHtml = 'Like what you see? Visit the ' +\n",
              "            '<a target=\"_blank\" href=https://colab.research.google.com/notebooks/data_table.ipynb>data table notebook</a>'\n",
              "            + ' to learn more about interactive tables.';\n",
              "          element.innerHTML = '';\n",
              "          dataTable['output_type'] = 'display_data';\n",
              "          await google.colab.output.renderOutput(dataTable, element);\n",
              "          const docLink = document.createElement('div');\n",
              "          docLink.innerHTML = docLinkHtml;\n",
              "          element.appendChild(docLink);\n",
              "        }\n",
              "      </script>\n",
              "    </div>\n",
              "  </div>\n",
              "  "
            ]
          },
          "metadata": {},
          "execution_count": 5
        }
      ],
      "source": [
        "df.sample(10)"
      ]
    },
    {
      "cell_type": "code",
      "execution_count": null,
      "metadata": {
        "colab": {
          "base_uri": "https://localhost:8080/"
        },
        "id": "_gJ7SDtCNByz",
        "outputId": "080f1de8-ec08-45c2-9a49-efebf0fb39ef"
      },
      "outputs": [
        {
          "output_type": "execute_result",
          "data": {
            "text/plain": [
              "(1143, 3)"
            ]
          },
          "metadata": {},
          "execution_count": 6
        }
      ],
      "source": [
        "df.shape"
      ]
    },
    {
      "cell_type": "markdown",
      "metadata": {
        "id": "mzjC6_BnNF5s"
      },
      "source": [
        "DATA CLEANING\n",
        "```\n",
        "# Untuk Membersihkan Data\n",
        "```\n",
        "\n"
      ]
    },
    {
      "cell_type": "code",
      "source": [],
      "metadata": {
        "id": "_u9cxKlO3twP"
      },
      "execution_count": null,
      "outputs": []
    },
    {
      "cell_type": "code",
      "execution_count": null,
      "metadata": {
        "colab": {
          "base_uri": "https://localhost:8080/"
        },
        "id": "krUMyTdNNDvi",
        "outputId": "c439937a-6360-47a2-fa4f-f6bac31279e9"
      },
      "outputs": [
        {
          "output_type": "stream",
          "name": "stdout",
          "text": [
            "<class 'pandas.core.frame.DataFrame'>\n",
            "RangeIndex: 1143 entries, 0 to 1142\n",
            "Data columns (total 3 columns):\n",
            " #   Column  Non-Null Count  Dtype \n",
            "---  ------  --------------  ----- \n",
            " 0   Teks    1143 non-null   object\n",
            " 1   label   1143 non-null   int64 \n",
            " 2   Ket     1143 non-null   object\n",
            "dtypes: int64(1), object(2)\n",
            "memory usage: 26.9+ KB\n"
          ]
        }
      ],
      "source": [
        "df.info()"
      ]
    },
    {
      "cell_type": "markdown",
      "metadata": {
        "id": "J-ONc8r1NFIt"
      },
      "source": []
    },
    {
      "cell_type": "code",
      "execution_count": null,
      "metadata": {
        "colab": {
          "base_uri": "https://localhost:8080/"
        },
        "id": "xjMoGw9zNWTE",
        "outputId": "4d286dea-3753-4f1a-8e8d-669525dbf78c"
      },
      "outputs": [
        {
          "output_type": "execute_result",
          "data": {
            "text/plain": [
              "Teks     0\n",
              "label    0\n",
              "Ket      0\n",
              "dtype: int64"
            ]
          },
          "metadata": {},
          "execution_count": 8
        }
      ],
      "source": [
        "#Missing Value\n",
        "df.isnull().sum()"
      ]
    },
    {
      "cell_type": "code",
      "execution_count": null,
      "metadata": {
        "colab": {
          "base_uri": "https://localhost:8080/",
          "height": 206
        },
        "id": "hIyivzgjNtbI",
        "outputId": "68c2bc8e-9c26-4bb4-f0e4-43041055e7f9"
      },
      "outputs": [
        {
          "output_type": "execute_result",
          "data": {
            "text/plain": [
              "                                                   Teks  label         Ket\n",
              "35    BONUS KUOTA 500MB (1hr)! Cukup isi ulang min. ...      1        Spam\n",
              "965                   Oke kalau untuk dp harus berapa%?      0  Bukan Spam\n",
              "899                Maaf kaprodi kita itu siapa yah hehe      0  Bukan Spam\n",
              "1132  yaudah, minta data dummy untuk diagnosa_pasien...      0  Bukan Spam\n",
              "750   Engga teh aku udh siap, mau brgkt ini. Aku td ...      0  Bukan Spam"
            ],
            "text/html": [
              "\n",
              "  <div id=\"df-78256e8e-024b-4a75-9741-8bde2ab97b5c\">\n",
              "    <div class=\"colab-df-container\">\n",
              "      <div>\n",
              "<style scoped>\n",
              "    .dataframe tbody tr th:only-of-type {\n",
              "        vertical-align: middle;\n",
              "    }\n",
              "\n",
              "    .dataframe tbody tr th {\n",
              "        vertical-align: top;\n",
              "    }\n",
              "\n",
              "    .dataframe thead th {\n",
              "        text-align: right;\n",
              "    }\n",
              "</style>\n",
              "<table border=\"1\" class=\"dataframe\">\n",
              "  <thead>\n",
              "    <tr style=\"text-align: right;\">\n",
              "      <th></th>\n",
              "      <th>Teks</th>\n",
              "      <th>label</th>\n",
              "      <th>Ket</th>\n",
              "    </tr>\n",
              "  </thead>\n",
              "  <tbody>\n",
              "    <tr>\n",
              "      <th>35</th>\n",
              "      <td>BONUS KUOTA 500MB (1hr)! Cukup isi ulang min. ...</td>\n",
              "      <td>1</td>\n",
              "      <td>Spam</td>\n",
              "    </tr>\n",
              "    <tr>\n",
              "      <th>965</th>\n",
              "      <td>Oke kalau untuk dp harus berapa%?</td>\n",
              "      <td>0</td>\n",
              "      <td>Bukan Spam</td>\n",
              "    </tr>\n",
              "    <tr>\n",
              "      <th>899</th>\n",
              "      <td>Maaf kaprodi kita itu siapa yah hehe</td>\n",
              "      <td>0</td>\n",
              "      <td>Bukan Spam</td>\n",
              "    </tr>\n",
              "    <tr>\n",
              "      <th>1132</th>\n",
              "      <td>yaudah, minta data dummy untuk diagnosa_pasien...</td>\n",
              "      <td>0</td>\n",
              "      <td>Bukan Spam</td>\n",
              "    </tr>\n",
              "    <tr>\n",
              "      <th>750</th>\n",
              "      <td>Engga teh aku udh siap, mau brgkt ini. Aku td ...</td>\n",
              "      <td>0</td>\n",
              "      <td>Bukan Spam</td>\n",
              "    </tr>\n",
              "  </tbody>\n",
              "</table>\n",
              "</div>\n",
              "      <button class=\"colab-df-convert\" onclick=\"convertToInteractive('df-78256e8e-024b-4a75-9741-8bde2ab97b5c')\"\n",
              "              title=\"Convert this dataframe to an interactive table.\"\n",
              "              style=\"display:none;\">\n",
              "        \n",
              "  <svg xmlns=\"http://www.w3.org/2000/svg\" height=\"24px\"viewBox=\"0 0 24 24\"\n",
              "       width=\"24px\">\n",
              "    <path d=\"M0 0h24v24H0V0z\" fill=\"none\"/>\n",
              "    <path d=\"M18.56 5.44l.94 2.06.94-2.06 2.06-.94-2.06-.94-.94-2.06-.94 2.06-2.06.94zm-11 1L8.5 8.5l.94-2.06 2.06-.94-2.06-.94L8.5 2.5l-.94 2.06-2.06.94zm10 10l.94 2.06.94-2.06 2.06-.94-2.06-.94-.94-2.06-.94 2.06-2.06.94z\"/><path d=\"M17.41 7.96l-1.37-1.37c-.4-.4-.92-.59-1.43-.59-.52 0-1.04.2-1.43.59L10.3 9.45l-7.72 7.72c-.78.78-.78 2.05 0 2.83L4 21.41c.39.39.9.59 1.41.59.51 0 1.02-.2 1.41-.59l7.78-7.78 2.81-2.81c.8-.78.8-2.07 0-2.86zM5.41 20L4 18.59l7.72-7.72 1.47 1.35L5.41 20z\"/>\n",
              "  </svg>\n",
              "      </button>\n",
              "      \n",
              "  <style>\n",
              "    .colab-df-container {\n",
              "      display:flex;\n",
              "      flex-wrap:wrap;\n",
              "      gap: 12px;\n",
              "    }\n",
              "\n",
              "    .colab-df-convert {\n",
              "      background-color: #E8F0FE;\n",
              "      border: none;\n",
              "      border-radius: 50%;\n",
              "      cursor: pointer;\n",
              "      display: none;\n",
              "      fill: #1967D2;\n",
              "      height: 32px;\n",
              "      padding: 0 0 0 0;\n",
              "      width: 32px;\n",
              "    }\n",
              "\n",
              "    .colab-df-convert:hover {\n",
              "      background-color: #E2EBFA;\n",
              "      box-shadow: 0px 1px 2px rgba(60, 64, 67, 0.3), 0px 1px 3px 1px rgba(60, 64, 67, 0.15);\n",
              "      fill: #174EA6;\n",
              "    }\n",
              "\n",
              "    [theme=dark] .colab-df-convert {\n",
              "      background-color: #3B4455;\n",
              "      fill: #D2E3FC;\n",
              "    }\n",
              "\n",
              "    [theme=dark] .colab-df-convert:hover {\n",
              "      background-color: #434B5C;\n",
              "      box-shadow: 0px 1px 3px 1px rgba(0, 0, 0, 0.15);\n",
              "      filter: drop-shadow(0px 1px 2px rgba(0, 0, 0, 0.3));\n",
              "      fill: #FFFFFF;\n",
              "    }\n",
              "  </style>\n",
              "\n",
              "      <script>\n",
              "        const buttonEl =\n",
              "          document.querySelector('#df-78256e8e-024b-4a75-9741-8bde2ab97b5c button.colab-df-convert');\n",
              "        buttonEl.style.display =\n",
              "          google.colab.kernel.accessAllowed ? 'block' : 'none';\n",
              "\n",
              "        async function convertToInteractive(key) {\n",
              "          const element = document.querySelector('#df-78256e8e-024b-4a75-9741-8bde2ab97b5c');\n",
              "          const dataTable =\n",
              "            await google.colab.kernel.invokeFunction('convertToInteractive',\n",
              "                                                     [key], {});\n",
              "          if (!dataTable) return;\n",
              "\n",
              "          const docLinkHtml = 'Like what you see? Visit the ' +\n",
              "            '<a target=\"_blank\" href=https://colab.research.google.com/notebooks/data_table.ipynb>data table notebook</a>'\n",
              "            + ' to learn more about interactive tables.';\n",
              "          element.innerHTML = '';\n",
              "          dataTable['output_type'] = 'display_data';\n",
              "          await google.colab.output.renderOutput(dataTable, element);\n",
              "          const docLink = document.createElement('div');\n",
              "          docLink.innerHTML = docLinkHtml;\n",
              "          element.appendChild(docLink);\n",
              "        }\n",
              "      </script>\n",
              "    </div>\n",
              "  </div>\n",
              "  "
            ]
          },
          "metadata": {},
          "execution_count": 9
        }
      ],
      "source": [
        "df.sample(5)"
      ]
    },
    {
      "cell_type": "code",
      "execution_count": null,
      "metadata": {
        "colab": {
          "base_uri": "https://localhost:8080/"
        },
        "id": "2c5cRkUlNunT",
        "outputId": "19ccfa3b-c7a3-47ae-bb0f-5e7cdacef376"
      },
      "outputs": [
        {
          "output_type": "execute_result",
          "data": {
            "text/plain": [
              "Teks     0\n",
              "label    0\n",
              "Ket      0\n",
              "dtype: int64"
            ]
          },
          "metadata": {},
          "execution_count": 10
        }
      ],
      "source": [
        "df.isnull().sum()"
      ]
    },
    {
      "cell_type": "code",
      "execution_count": null,
      "metadata": {
        "colab": {
          "base_uri": "https://localhost:8080/"
        },
        "id": "rF4Wf3BONxwt",
        "outputId": "7f098201-77b7-43bb-bd53-866855380609"
      },
      "outputs": [
        {
          "output_type": "execute_result",
          "data": {
            "text/plain": [
              "1"
            ]
          },
          "metadata": {},
          "execution_count": 11
        }
      ],
      "source": [
        "#Check Data Duplikat\n",
        "df.duplicated().sum()"
      ]
    },
    {
      "cell_type": "code",
      "execution_count": null,
      "metadata": {
        "id": "cf2kR1QVN0SC"
      },
      "outputs": [],
      "source": [
        "#Membuang Data DUplikat\n",
        "df = df.drop_duplicates(keep='first')"
      ]
    },
    {
      "cell_type": "code",
      "execution_count": null,
      "metadata": {
        "colab": {
          "base_uri": "https://localhost:8080/"
        },
        "id": "Q_d49WpoN6tM",
        "outputId": "093cab6b-f653-4d7c-a547-6a7d0c45844c"
      },
      "outputs": [
        {
          "output_type": "execute_result",
          "data": {
            "text/plain": [
              "0"
            ]
          },
          "metadata": {},
          "execution_count": 13
        }
      ],
      "source": [
        "df.duplicated().sum()"
      ]
    },
    {
      "cell_type": "code",
      "execution_count": null,
      "metadata": {
        "colab": {
          "base_uri": "https://localhost:8080/"
        },
        "id": "_ZXP7kaAN9QP",
        "outputId": "e59099b7-c686-4f21-b45d-dff177f79606"
      },
      "outputs": [
        {
          "output_type": "execute_result",
          "data": {
            "text/plain": [
              "(1142, 3)"
            ]
          },
          "metadata": {},
          "execution_count": 14
        }
      ],
      "source": [
        "df.shape"
      ]
    },
    {
      "cell_type": "markdown",
      "metadata": {
        "id": "rbx5ygZ1OBHO"
      },
      "source": [
        "ANALISIS DATA EKSPLORATIF"
      ]
    },
    {
      "cell_type": "code",
      "execution_count": null,
      "metadata": {
        "colab": {
          "base_uri": "https://localhost:8080/"
        },
        "id": "XO1mOiutN_r0",
        "outputId": "c0e0bfa6-c75b-495e-aa97-fc9cd2b3a85e"
      },
      "outputs": [
        {
          "output_type": "execute_result",
          "data": {
            "text/plain": [
              "1    574\n",
              "0    568\n",
              "Name: label, dtype: int64"
            ]
          },
          "metadata": {},
          "execution_count": 15
        }
      ],
      "source": [
        "df['label'].value_counts()"
      ]
    },
    {
      "cell_type": "code",
      "execution_count": null,
      "metadata": {
        "id": "Q68NgTexONOZ"
      },
      "outputs": [],
      "source": [
        "import matplotlib.pyplot as plt"
      ]
    },
    {
      "cell_type": "code",
      "execution_count": null,
      "metadata": {
        "colab": {
          "base_uri": "https://localhost:8080/",
          "height": 334
        },
        "id": "szbIdNooOWie",
        "outputId": "09a77fed-e9cd-4f46-d171-33df05c98b48"
      },
      "outputs": [
        {
          "output_type": "display_data",
          "data": {
            "text/plain": [
              "<Figure size 432x288 with 1 Axes>"
            ],
            "image/png": "[encoded data removed]"
          },
          "metadata": {
            "needs_background": "light"
          }
        }
      ],
      "source": [
        "count_Class=pd.value_counts(df[\"Ket\"], sort= True)\n",
        "count_Class.plot(kind= 'bar', color= [\"violet\", \"blue\"])\n",
        "plt.title('Data SMS')\n",
        "plt.show()"
      ]
    },
    {
      "cell_type": "code",
      "execution_count": null,
      "metadata": {
        "colab": {
          "base_uri": "https://localhost:8080/",
          "height": 264
        },
        "id": "8NpEfq-JXFpO",
        "outputId": "ce7b75e2-5a39-4e9c-e2c9-b2536d1724ca"
      },
      "outputs": [
        {
          "output_type": "display_data",
          "data": {
            "text/plain": [
              "<Figure size 432x288 with 1 Axes>"
            ],
            "image/png": "[encoded data removed]"
          },
          "metadata": {}
        }
      ],
      "source": [
        "count_Class.plot(kind = 'pie',  autopct='%1.0f%%')\n",
        "plt.title('DATA SMS')\n",
        "plt.ylabel('')\n",
        "plt.show()"
      ]
    },
    {
      "cell_type": "code",
      "execution_count": null,
      "metadata": {
        "id": "2xhoRHYIOrpW"
      },
      "outputs": [],
      "source": [
        "import nltk"
      ]
    },
    {
      "cell_type": "code",
      "execution_count": null,
      "metadata": {
        "colab": {
          "base_uri": "https://localhost:8080/"
        },
        "id": "e0Br9JsEPZC2",
        "outputId": "3227b34f-552e-4ff2-9017-f9499be3ccdb"
      },
      "outputs": [
        {
          "output_type": "stream",
          "name": "stderr",
          "text": [
            "[nltk_data] Downloading package punkt to /root/nltk_data...\n",
            "[nltk_data]   Unzipping tokenizers/punkt.zip.\n"
          ]
        },
        {
          "output_type": "execute_result",
          "data": {
            "text/plain": [
              "True"
            ]
          },
          "metadata": {},
          "execution_count": 20
        }
      ],
      "source": [
        "nltk.download('punkt')"
      ]
    },
    {
      "cell_type": "code",
      "execution_count": null,
      "metadata": {
        "id": "pP-HJ3x9OtsW"
      },
      "outputs": [],
      "source": [
        "df['Jumlah_Huruf'] = df['Teks'].apply(len)"
      ]
    },
    {
      "cell_type": "code",
      "execution_count": null,
      "metadata": {
        "id": "6zTiZCB7O00_"
      },
      "outputs": [],
      "source": [
        "df['Jumlah_Kata'] = df['Teks'].apply(lambda x:len(nltk.word_tokenize(x)))"
      ]
    },
    {
      "cell_type": "code",
      "execution_count": null,
      "metadata": {
        "id": "A_64k8boPMgE"
      },
      "outputs": [],
      "source": [
        "df['Jumlah_Kalimat'] = df['Teks'].apply(lambda x:len(nltk.sent_tokenize(x)))"
      ]
    },
    {
      "cell_type": "code",
      "execution_count": null,
      "metadata": {
        "colab": {
          "base_uri": "https://localhost:8080/",
          "height": 302
        },
        "id": "-dHE17z0Pdg9",
        "outputId": "de8f0f48-a8d6-4421-d08f-e11b53152a34"
      },
      "outputs": [
        {
          "output_type": "execute_result",
          "data": {
            "text/plain": [
              "                                                Teks  label   Ket  \\\n",
              "0  [PROMO] Beli paket Flash mulai 1GB di MY TELKO...      1  Spam   \n",
              "1  2.5 GB/30 hari hanya Rp 35 Ribu Spesial buat A...      1  Spam   \n",
              "2  2016-07-08 11:47:11.Plg Yth, sisa kuota Flash ...      1  Spam   \n",
              "3  2016-08-07 11:29:47.Plg Yth, sisa kuota Flash ...      1  Spam   \n",
              "4  4.5GB/30 hari hanya Rp 55 Ribu Spesial buat an...      1  Spam   \n",
              "\n",
              "   Jumlah_Huruf  Jumlah_Kata  Jumlah_Kalimat  \n",
              "0           153           32               2  \n",
              "1           152           34               4  \n",
              "2           152           29               2  \n",
              "3           153           29               2  \n",
              "4           113           25               3  "
            ],
            "text/html": [
              "\n",
              "  <div id=\"df-14ed5482-d87f-42ae-8548-74e9acee395c\">\n",
              "    <div class=\"colab-df-container\">\n",
              "      <div>\n",
              "<style scoped>\n",
              "    .dataframe tbody tr th:only-of-type {\n",
              "        vertical-align: middle;\n",
              "    }\n",
              "\n",
              "    .dataframe tbody tr th {\n",
              "        vertical-align: top;\n",
              "    }\n",
              "\n",
              "    .dataframe thead th {\n",
              "        text-align: right;\n",
              "    }\n",
              "</style>\n",
              "<table border=\"1\" class=\"dataframe\">\n",
              "  <thead>\n",
              "    <tr style=\"text-align: right;\">\n",
              "      <th></th>\n",
              "      <th>Teks</th>\n",
              "      <th>label</th>\n",
              "      <th>Ket</th>\n",
              "      <th>Jumlah_Huruf</th>\n",
              "      <th>Jumlah_Kata</th>\n",
              "      <th>Jumlah_Kalimat</th>\n",
              "    </tr>\n",
              "  </thead>\n",
              "  <tbody>\n",
              "    <tr>\n",
              "      <th>0</th>\n",
              "      <td>[PROMO] Beli paket Flash mulai 1GB di MY TELKO...</td>\n",
              "      <td>1</td>\n",
              "      <td>Spam</td>\n",
              "      <td>153</td>\n",
              "      <td>32</td>\n",
              "      <td>2</td>\n",
              "    </tr>\n",
              "    <tr>\n",
              "      <th>1</th>\n",
              "      <td>2.5 GB/30 hari hanya Rp 35 Ribu Spesial buat A...</td>\n",
              "      <td>1</td>\n",
              "      <td>Spam</td>\n",
              "      <td>152</td>\n",
              "      <td>34</td>\n",
              "      <td>4</td>\n",
              "    </tr>\n",
              "    <tr>\n",
              "      <th>2</th>\n",
              "      <td>2016-07-08 11:47:11.Plg Yth, sisa kuota Flash ...</td>\n",
              "      <td>1</td>\n",
              "      <td>Spam</td>\n",
              "      <td>152</td>\n",
              "      <td>29</td>\n",
              "      <td>2</td>\n",
              "    </tr>\n",
              "    <tr>\n",
              "      <th>3</th>\n",
              "      <td>2016-08-07 11:29:47.Plg Yth, sisa kuota Flash ...</td>\n",
              "      <td>1</td>\n",
              "      <td>Spam</td>\n",
              "      <td>153</td>\n",
              "      <td>29</td>\n",
              "      <td>2</td>\n",
              "    </tr>\n",
              "    <tr>\n",
              "      <th>4</th>\n",
              "      <td>4.5GB/30 hari hanya Rp 55 Ribu Spesial buat an...</td>\n",
              "      <td>1</td>\n",
              "      <td>Spam</td>\n",
              "      <td>113</td>\n",
              "      <td>25</td>\n",
              "      <td>3</td>\n",
              "    </tr>\n",
              "  </tbody>\n",
              "</table>\n",
              "</div>\n",
              "      <button class=\"colab-df-convert\" onclick=\"convertToInteractive('df-14ed5482-d87f-42ae-8548-74e9acee395c')\"\n",
              "              title=\"Convert this dataframe to an interactive table.\"\n",
              "              style=\"display:none;\">\n",
              "        \n",
              "  <svg xmlns=\"http://www.w3.org/2000/svg\" height=\"24px\"viewBox=\"0 0 24 24\"\n",
              "       width=\"24px\">\n",
              "    <path d=\"M0 0h24v24H0V0z\" fill=\"none\"/>\n",
              "    <path d=\"M18.56 5.44l.94 2.06.94-2.06 2.06-.94-2.06-.94-.94-2.06-.94 2.06-2.06.94zm-11 1L8.5 8.5l.94-2.06 2.06-.94-2.06-.94L8.5 2.5l-.94 2.06-2.06.94zm10 10l.94 2.06.94-2.06 2.06-.94-2.06-.94-.94-2.06-.94 2.06-2.06.94z\"/><path d=\"M17.41 7.96l-1.37-1.37c-.4-.4-.92-.59-1.43-.59-.52 0-1.04.2-1.43.59L10.3 9.45l-7.72 7.72c-.78.78-.78 2.05 0 2.83L4 21.41c.39.39.9.59 1.41.59.51 0 1.02-.2 1.41-.59l7.78-7.78 2.81-2.81c.8-.78.8-2.07 0-2.86zM5.41 20L4 18.59l7.72-7.72 1.47 1.35L5.41 20z\"/>\n",
              "  </svg>\n",
              "      </button>\n",
              "      \n",
              "  <style>\n",
              "    .colab-df-container {\n",
              "      display:flex;\n",
              "      flex-wrap:wrap;\n",
              "      gap: 12px;\n",
              "    }\n",
              "\n",
              "    .colab-df-convert {\n",
              "      background-color: #E8F0FE;\n",
              "      border: none;\n",
              "      border-radius: 50%;\n",
              "      cursor: pointer;\n",
              "      display: none;\n",
              "      fill: #1967D2;\n",
              "      height: 32px;\n",
              "      padding: 0 0 0 0;\n",
              "      width: 32px;\n",
              "    }\n",
              "\n",
              "    .colab-df-convert:hover {\n",
              "      background-color: #E2EBFA;\n",
              "      box-shadow: 0px 1px 2px rgba(60, 64, 67, 0.3), 0px 1px 3px 1px rgba(60, 64, 67, 0.15);\n",
              "      fill: #174EA6;\n",
              "    }\n",
              "\n",
              "    [theme=dark] .colab-df-convert {\n",
              "      background-color: #3B4455;\n",
              "      fill: #D2E3FC;\n",
              "    }\n",
              "\n",
              "    [theme=dark] .colab-df-convert:hover {\n",
              "      background-color: #434B5C;\n",
              "      box-shadow: 0px 1px 3px 1px rgba(0, 0, 0, 0.15);\n",
              "      filter: drop-shadow(0px 1px 2px rgba(0, 0, 0, 0.3));\n",
              "      fill: #FFFFFF;\n",
              "    }\n",
              "  </style>\n",
              "\n",
              "      <script>\n",
              "        const buttonEl =\n",
              "          document.querySelector('#df-14ed5482-d87f-42ae-8548-74e9acee395c button.colab-df-convert');\n",
              "        buttonEl.style.display =\n",
              "          google.colab.kernel.accessAllowed ? 'block' : 'none';\n",
              "\n",
              "        async function convertToInteractive(key) {\n",
              "          const element = document.querySelector('#df-14ed5482-d87f-42ae-8548-74e9acee395c');\n",
              "          const dataTable =\n",
              "            await google.colab.kernel.invokeFunction('convertToInteractive',\n",
              "                                                     [key], {});\n",
              "          if (!dataTable) return;\n",
              "\n",
              "          const docLinkHtml = 'Like what you see? Visit the ' +\n",
              "            '<a target=\"_blank\" href=https://colab.research.google.com/notebooks/data_table.ipynb>data table notebook</a>'\n",
              "            + ' to learn more about interactive tables.';\n",
              "          element.innerHTML = '';\n",
              "          dataTable['output_type'] = 'display_data';\n",
              "          await google.colab.output.renderOutput(dataTable, element);\n",
              "          const docLink = document.createElement('div');\n",
              "          docLink.innerHTML = docLinkHtml;\n",
              "          element.appendChild(docLink);\n",
              "        }\n",
              "      </script>\n",
              "    </div>\n",
              "  </div>\n",
              "  "
            ]
          },
          "metadata": {},
          "execution_count": 24
        }
      ],
      "source": [
        "df.head()"
      ]
    },
    {
      "cell_type": "code",
      "execution_count": null,
      "metadata": {
        "colab": {
          "base_uri": "https://localhost:8080/",
          "height": 300
        },
        "id": "DdraJQFXPfgg",
        "outputId": "3837690d-9960-4af3-fc14-5c5c0dbec5d2"
      },
      "outputs": [
        {
          "output_type": "execute_result",
          "data": {
            "text/plain": [
              "       Jumlah_Huruf  Jumlah_Kata  Jumlah_Kalimat\n",
              "count   1142.000000  1142.000000     1142.000000\n",
              "mean     108.757443    19.957093        1.802102\n",
              "std       59.098470    10.487123        1.125466\n",
              "min       13.000000     3.000000        1.000000\n",
              "25%       58.000000    11.000000        1.000000\n",
              "50%      113.000000    20.000000        1.000000\n",
              "75%      152.000000    26.000000        2.000000\n",
              "max      434.000000    83.000000       11.000000"
            ],
            "text/html": [
              "\n",
              "  <div id=\"df-c5ddf697-8d93-4daa-afb5-8231c417e40d\">\n",
              "    <div class=\"colab-df-container\">\n",
              "      <div>\n",
              "<style scoped>\n",
              "    .dataframe tbody tr th:only-of-type {\n",
              "        vertical-align: middle;\n",
              "    }\n",
              "\n",
              "    .dataframe tbody tr th {\n",
              "        vertical-align: top;\n",
              "    }\n",
              "\n",
              "    .dataframe thead th {\n",
              "        text-align: right;\n",
              "    }\n",
              "</style>\n",
              "<table border=\"1\" class=\"dataframe\">\n",
              "  <thead>\n",
              "    <tr style=\"text-align: right;\">\n",
              "      <th></th>\n",
              "      <th>Jumlah_Huruf</th>\n",
              "      <th>Jumlah_Kata</th>\n",
              "      <th>Jumlah_Kalimat</th>\n",
              "    </tr>\n",
              "  </thead>\n",
              "  <tbody>\n",
              "    <tr>\n",
              "      <th>count</th>\n",
              "      <td>1142.000000</td>\n",
              "      <td>1142.000000</td>\n",
              "      <td>1142.000000</td>\n",
              "    </tr>\n",
              "    <tr>\n",
              "      <th>mean</th>\n",
              "      <td>108.757443</td>\n",
              "      <td>19.957093</td>\n",
              "      <td>1.802102</td>\n",
              "    </tr>\n",
              "    <tr>\n",
              "      <th>std</th>\n",
              "      <td>59.098470</td>\n",
              "      <td>10.487123</td>\n",
              "      <td>1.125466</td>\n",
              "    </tr>\n",
              "    <tr>\n",
              "      <th>min</th>\n",
              "      <td>13.000000</td>\n",
              "      <td>3.000000</td>\n",
              "      <td>1.000000</td>\n",
              "    </tr>\n",
              "    <tr>\n",
              "      <th>25%</th>\n",
              "      <td>58.000000</td>\n",
              "      <td>11.000000</td>\n",
              "      <td>1.000000</td>\n",
              "    </tr>\n",
              "    <tr>\n",
              "      <th>50%</th>\n",
              "      <td>113.000000</td>\n",
              "      <td>20.000000</td>\n",
              "      <td>1.000000</td>\n",
              "    </tr>\n",
              "    <tr>\n",
              "      <th>75%</th>\n",
              "      <td>152.000000</td>\n",
              "      <td>26.000000</td>\n",
              "      <td>2.000000</td>\n",
              "    </tr>\n",
              "    <tr>\n",
              "      <th>max</th>\n",
              "      <td>434.000000</td>\n",
              "      <td>83.000000</td>\n",
              "      <td>11.000000</td>\n",
              "    </tr>\n",
              "  </tbody>\n",
              "</table>\n",
              "</div>\n",
              "      <button class=\"colab-df-convert\" onclick=\"convertToInteractive('df-c5ddf697-8d93-4daa-afb5-8231c417e40d')\"\n",
              "              title=\"Convert this dataframe to an interactive table.\"\n",
              "              style=\"display:none;\">\n",
              "        \n",
              "  <svg xmlns=\"http://www.w3.org/2000/svg\" height=\"24px\"viewBox=\"0 0 24 24\"\n",
              "       width=\"24px\">\n",
              "    <path d=\"M0 0h24v24H0V0z\" fill=\"none\"/>\n",
              "    <path d=\"M18.56 5.44l.94 2.06.94-2.06 2.06-.94-2.06-.94-.94-2.06-.94 2.06-2.06.94zm-11 1L8.5 8.5l.94-2.06 2.06-.94-2.06-.94L8.5 2.5l-.94 2.06-2.06.94zm10 10l.94 2.06.94-2.06 2.06-.94-2.06-.94-.94-2.06-.94 2.06-2.06.94z\"/><path d=\"M17.41 7.96l-1.37-1.37c-.4-.4-.92-.59-1.43-.59-.52 0-1.04.2-1.43.59L10.3 9.45l-7.72 7.72c-.78.78-.78 2.05 0 2.83L4 21.41c.39.39.9.59 1.41.59.51 0 1.02-.2 1.41-.59l7.78-7.78 2.81-2.81c.8-.78.8-2.07 0-2.86zM5.41 20L4 18.59l7.72-7.72 1.47 1.35L5.41 20z\"/>\n",
              "  </svg>\n",
              "      </button>\n",
              "      \n",
              "  <style>\n",
              "    .colab-df-container {\n",
              "      display:flex;\n",
              "      flex-wrap:wrap;\n",
              "      gap: 12px;\n",
              "    }\n",
              "\n",
              "    .colab-df-convert {\n",
              "      background-color: #E8F0FE;\n",
              "      border: none;\n",
              "      border-radius: 50%;\n",
              "      cursor: pointer;\n",
              "      display: none;\n",
              "      fill: #1967D2;\n",
              "      height: 32px;\n",
              "      padding: 0 0 0 0;\n",
              "      width: 32px;\n",
              "    }\n",
              "\n",
              "    .colab-df-convert:hover {\n",
              "      background-color: #E2EBFA;\n",
              "      box-shadow: 0px 1px 2px rgba(60, 64, 67, 0.3), 0px 1px 3px 1px rgba(60, 64, 67, 0.15);\n",
              "      fill: #174EA6;\n",
              "    }\n",
              "\n",
              "    [theme=dark] .colab-df-convert {\n",
              "      background-color: #3B4455;\n",
              "      fill: #D2E3FC;\n",
              "    }\n",
              "\n",
              "    [theme=dark] .colab-df-convert:hover {\n",
              "      background-color: #434B5C;\n",
              "      box-shadow: 0px 1px 3px 1px rgba(0, 0, 0, 0.15);\n",
              "      filter: drop-shadow(0px 1px 2px rgba(0, 0, 0, 0.3));\n",
              "      fill: #FFFFFF;\n",
              "    }\n",
              "  </style>\n",
              "\n",
              "      <script>\n",
              "        const buttonEl =\n",
              "          document.querySelector('#df-c5ddf697-8d93-4daa-afb5-8231c417e40d button.colab-df-convert');\n",
              "        buttonEl.style.display =\n",
              "          google.colab.kernel.accessAllowed ? 'block' : 'none';\n",
              "\n",
              "        async function convertToInteractive(key) {\n",
              "          const element = document.querySelector('#df-c5ddf697-8d93-4daa-afb5-8231c417e40d');\n",
              "          const dataTable =\n",
              "            await google.colab.kernel.invokeFunction('convertToInteractive',\n",
              "                                                     [key], {});\n",
              "          if (!dataTable) return;\n",
              "\n",
              "          const docLinkHtml = 'Like what you see? Visit the ' +\n",
              "            '<a target=\"_blank\" href=https://colab.research.google.com/notebooks/data_table.ipynb>data table notebook</a>'\n",
              "            + ' to learn more about interactive tables.';\n",
              "          element.innerHTML = '';\n",
              "          dataTable['output_type'] = 'display_data';\n",
              "          await google.colab.output.renderOutput(dataTable, element);\n",
              "          const docLink = document.createElement('div');\n",
              "          docLink.innerHTML = docLinkHtml;\n",
              "          element.appendChild(docLink);\n",
              "        }\n",
              "      </script>\n",
              "    </div>\n",
              "  </div>\n",
              "  "
            ]
          },
          "metadata": {},
          "execution_count": 25
        }
      ],
      "source": [
        "df[['Jumlah_Huruf','Jumlah_Kata','Jumlah_Kalimat']].describe()"
      ]
    },
    {
      "cell_type": "code",
      "execution_count": null,
      "metadata": {
        "colab": {
          "base_uri": "https://localhost:8080/",
          "height": 300
        },
        "id": "8Nj0Sm7sPydM",
        "outputId": "7b55dddb-2e1f-4519-fa6f-29526a0c2194"
      },
      "outputs": [
        {
          "output_type": "execute_result",
          "data": {
            "text/plain": [
              "       Jumlah_Huruf  Jumlah_Kata  Jumlah_Kalimat\n",
              "count    574.000000   574.000000      574.000000\n",
              "mean     146.595819    26.029617        2.132404\n",
              "std       44.191915     8.504028        1.264316\n",
              "min       46.000000     7.000000        1.000000\n",
              "25%      129.000000    21.000000        1.000000\n",
              "50%      149.000000    25.000000        2.000000\n",
              "75%      158.000000    30.000000        3.000000\n",
              "max      431.000000    83.000000        8.000000"
            ],
            "text/html": [
              "\n",
              "  <div id=\"df-1e3c3eea-47f1-41ac-87f7-380d3a3f1e2b\">\n",
              "    <div class=\"colab-df-container\">\n",
              "      <div>\n",
              "<style scoped>\n",
              "    .dataframe tbody tr th:only-of-type {\n",
              "        vertical-align: middle;\n",
              "    }\n",
              "\n",
              "    .dataframe tbody tr th {\n",
              "        vertical-align: top;\n",
              "    }\n",
              "\n",
              "    .dataframe thead th {\n",
              "        text-align: right;\n",
              "    }\n",
              "</style>\n",
              "<table border=\"1\" class=\"dataframe\">\n",
              "  <thead>\n",
              "    <tr style=\"text-align: right;\">\n",
              "      <th></th>\n",
              "      <th>Jumlah_Huruf</th>\n",
              "      <th>Jumlah_Kata</th>\n",
              "      <th>Jumlah_Kalimat</th>\n",
              "    </tr>\n",
              "  </thead>\n",
              "  <tbody>\n",
              "    <tr>\n",
              "      <th>count</th>\n",
              "      <td>574.000000</td>\n",
              "      <td>574.000000</td>\n",
              "      <td>574.000000</td>\n",
              "    </tr>\n",
              "    <tr>\n",
              "      <th>mean</th>\n",
              "      <td>146.595819</td>\n",
              "      <td>26.029617</td>\n",
              "      <td>2.132404</td>\n",
              "    </tr>\n",
              "    <tr>\n",
              "      <th>std</th>\n",
              "      <td>44.191915</td>\n",
              "      <td>8.504028</td>\n",
              "      <td>1.264316</td>\n",
              "    </tr>\n",
              "    <tr>\n",
              "      <th>min</th>\n",
              "      <td>46.000000</td>\n",
              "      <td>7.000000</td>\n",
              "      <td>1.000000</td>\n",
              "    </tr>\n",
              "    <tr>\n",
              "      <th>25%</th>\n",
              "      <td>129.000000</td>\n",
              "      <td>21.000000</td>\n",
              "      <td>1.000000</td>\n",
              "    </tr>\n",
              "    <tr>\n",
              "      <th>50%</th>\n",
              "      <td>149.000000</td>\n",
              "      <td>25.000000</td>\n",
              "      <td>2.000000</td>\n",
              "    </tr>\n",
              "    <tr>\n",
              "      <th>75%</th>\n",
              "      <td>158.000000</td>\n",
              "      <td>30.000000</td>\n",
              "      <td>3.000000</td>\n",
              "    </tr>\n",
              "    <tr>\n",
              "      <th>max</th>\n",
              "      <td>431.000000</td>\n",
              "      <td>83.000000</td>\n",
              "      <td>8.000000</td>\n",
              "    </tr>\n",
              "  </tbody>\n",
              "</table>\n",
              "</div>\n",
              "      <button class=\"colab-df-convert\" onclick=\"convertToInteractive('df-1e3c3eea-47f1-41ac-87f7-380d3a3f1e2b')\"\n",
              "              title=\"Convert this dataframe to an interactive table.\"\n",
              "              style=\"display:none;\">\n",
              "        \n",
              "  <svg xmlns=\"http://www.w3.org/2000/svg\" height=\"24px\"viewBox=\"0 0 24 24\"\n",
              "       width=\"24px\">\n",
              "    <path d=\"M0 0h24v24H0V0z\" fill=\"none\"/>\n",
              "    <path d=\"M18.56 5.44l.94 2.06.94-2.06 2.06-.94-2.06-.94-.94-2.06-.94 2.06-2.06.94zm-11 1L8.5 8.5l.94-2.06 2.06-.94-2.06-.94L8.5 2.5l-.94 2.06-2.06.94zm10 10l.94 2.06.94-2.06 2.06-.94-2.06-.94-.94-2.06-.94 2.06-2.06.94z\"/><path d=\"M17.41 7.96l-1.37-1.37c-.4-.4-.92-.59-1.43-.59-.52 0-1.04.2-1.43.59L10.3 9.45l-7.72 7.72c-.78.78-.78 2.05 0 2.83L4 21.41c.39.39.9.59 1.41.59.51 0 1.02-.2 1.41-.59l7.78-7.78 2.81-2.81c.8-.78.8-2.07 0-2.86zM5.41 20L4 18.59l7.72-7.72 1.47 1.35L5.41 20z\"/>\n",
              "  </svg>\n",
              "      </button>\n",
              "      \n",
              "  <style>\n",
              "    .colab-df-container {\n",
              "      display:flex;\n",
              "      flex-wrap:wrap;\n",
              "      gap: 12px;\n",
              "    }\n",
              "\n",
              "    .colab-df-convert {\n",
              "      background-color: #E8F0FE;\n",
              "      border: none;\n",
              "      border-radius: 50%;\n",
              "      cursor: pointer;\n",
              "      display: none;\n",
              "      fill: #1967D2;\n",
              "      height: 32px;\n",
              "      padding: 0 0 0 0;\n",
              "      width: 32px;\n",
              "    }\n",
              "\n",
              "    .colab-df-convert:hover {\n",
              "      background-color: #E2EBFA;\n",
              "      box-shadow: 0px 1px 2px rgba(60, 64, 67, 0.3), 0px 1px 3px 1px rgba(60, 64, 67, 0.15);\n",
              "      fill: #174EA6;\n",
              "    }\n",
              "\n",
              "    [theme=dark] .colab-df-convert {\n",
              "      background-color: #3B4455;\n",
              "      fill: #D2E3FC;\n",
              "    }\n",
              "\n",
              "    [theme=dark] .colab-df-convert:hover {\n",
              "      background-color: #434B5C;\n",
              "      box-shadow: 0px 1px 3px 1px rgba(0, 0, 0, 0.15);\n",
              "      filter: drop-shadow(0px 1px 2px rgba(0, 0, 0, 0.3));\n",
              "      fill: #FFFFFF;\n",
              "    }\n",
              "  </style>\n",
              "\n",
              "      <script>\n",
              "        const buttonEl =\n",
              "          document.querySelector('#df-1e3c3eea-47f1-41ac-87f7-380d3a3f1e2b button.colab-df-convert');\n",
              "        buttonEl.style.display =\n",
              "          google.colab.kernel.accessAllowed ? 'block' : 'none';\n",
              "\n",
              "        async function convertToInteractive(key) {\n",
              "          const element = document.querySelector('#df-1e3c3eea-47f1-41ac-87f7-380d3a3f1e2b');\n",
              "          const dataTable =\n",
              "            await google.colab.kernel.invokeFunction('convertToInteractive',\n",
              "                                                     [key], {});\n",
              "          if (!dataTable) return;\n",
              "\n",
              "          const docLinkHtml = 'Like what you see? Visit the ' +\n",
              "            '<a target=\"_blank\" href=https://colab.research.google.com/notebooks/data_table.ipynb>data table notebook</a>'\n",
              "            + ' to learn more about interactive tables.';\n",
              "          element.innerHTML = '';\n",
              "          dataTable['output_type'] = 'display_data';\n",
              "          await google.colab.output.renderOutput(dataTable, element);\n",
              "          const docLink = document.createElement('div');\n",
              "          docLink.innerHTML = docLinkHtml;\n",
              "          element.appendChild(docLink);\n",
              "        }\n",
              "      </script>\n",
              "    </div>\n",
              "  </div>\n",
              "  "
            ]
          },
          "metadata": {},
          "execution_count": 26
        }
      ],
      "source": [
        "df[df['Ket']=='Spam'][['Jumlah_Huruf','Jumlah_Kata','Jumlah_Kalimat']].describe()"
      ]
    },
    {
      "cell_type": "code",
      "execution_count": null,
      "metadata": {
        "colab": {
          "base_uri": "https://localhost:8080/",
          "height": 300
        },
        "id": "1mw9MrB9jSfm",
        "outputId": "f97ffff5-0ba8-4bfe-9d60-4963aa841b2d"
      },
      "outputs": [
        {
          "output_type": "execute_result",
          "data": {
            "text/plain": [
              "       Jumlah_Huruf  Jumlah_Kata  Jumlah_Kalimat\n",
              "count    568.000000   568.000000      568.000000\n",
              "mean      70.519366    13.820423        1.468310\n",
              "std       46.267030     8.554389        0.843514\n",
              "min       13.000000     3.000000        1.000000\n",
              "25%       42.000000     8.000000        1.000000\n",
              "50%       58.500000    12.000000        1.000000\n",
              "75%       83.250000    17.000000        2.000000\n",
              "max      434.000000    73.000000       11.000000"
            ],
            "text/html": [
              "\n",
              "  <div id=\"df-975bbe7d-2005-4e89-8455-24eaa0872466\">\n",
              "    <div class=\"colab-df-container\">\n",
              "      <div>\n",
              "<style scoped>\n",
              "    .dataframe tbody tr th:only-of-type {\n",
              "        vertical-align: middle;\n",
              "    }\n",
              "\n",
              "    .dataframe tbody tr th {\n",
              "        vertical-align: top;\n",
              "    }\n",
              "\n",
              "    .dataframe thead th {\n",
              "        text-align: right;\n",
              "    }\n",
              "</style>\n",
              "<table border=\"1\" class=\"dataframe\">\n",
              "  <thead>\n",
              "    <tr style=\"text-align: right;\">\n",
              "      <th></th>\n",
              "      <th>Jumlah_Huruf</th>\n",
              "      <th>Jumlah_Kata</th>\n",
              "      <th>Jumlah_Kalimat</th>\n",
              "    </tr>\n",
              "  </thead>\n",
              "  <tbody>\n",
              "    <tr>\n",
              "      <th>count</th>\n",
              "      <td>568.000000</td>\n",
              "      <td>568.000000</td>\n",
              "      <td>568.000000</td>\n",
              "    </tr>\n",
              "    <tr>\n",
              "      <th>mean</th>\n",
              "      <td>70.519366</td>\n",
              "      <td>13.820423</td>\n",
              "      <td>1.468310</td>\n",
              "    </tr>\n",
              "    <tr>\n",
              "      <th>std</th>\n",
              "      <td>46.267030</td>\n",
              "      <td>8.554389</td>\n",
              "      <td>0.843514</td>\n",
              "    </tr>\n",
              "    <tr>\n",
              "      <th>min</th>\n",
              "      <td>13.000000</td>\n",
              "      <td>3.000000</td>\n",
              "      <td>1.000000</td>\n",
              "    </tr>\n",
              "    <tr>\n",
              "      <th>25%</th>\n",
              "      <td>42.000000</td>\n",
              "      <td>8.000000</td>\n",
              "      <td>1.000000</td>\n",
              "    </tr>\n",
              "    <tr>\n",
              "      <th>50%</th>\n",
              "      <td>58.500000</td>\n",
              "      <td>12.000000</td>\n",
              "      <td>1.000000</td>\n",
              "    </tr>\n",
              "    <tr>\n",
              "      <th>75%</th>\n",
              "      <td>83.250000</td>\n",
              "      <td>17.000000</td>\n",
              "      <td>2.000000</td>\n",
              "    </tr>\n",
              "    <tr>\n",
              "      <th>max</th>\n",
              "      <td>434.000000</td>\n",
              "      <td>73.000000</td>\n",
              "      <td>11.000000</td>\n",
              "    </tr>\n",
              "  </tbody>\n",
              "</table>\n",
              "</div>\n",
              "      <button class=\"colab-df-convert\" onclick=\"convertToInteractive('df-975bbe7d-2005-4e89-8455-24eaa0872466')\"\n",
              "              title=\"Convert this dataframe to an interactive table.\"\n",
              "              style=\"display:none;\">\n",
              "        \n",
              "  <svg xmlns=\"http://www.w3.org/2000/svg\" height=\"24px\"viewBox=\"0 0 24 24\"\n",
              "       width=\"24px\">\n",
              "    <path d=\"M0 0h24v24H0V0z\" fill=\"none\"/>\n",
              "    <path d=\"M18.56 5.44l.94 2.06.94-2.06 2.06-.94-2.06-.94-.94-2.06-.94 2.06-2.06.94zm-11 1L8.5 8.5l.94-2.06 2.06-.94-2.06-.94L8.5 2.5l-.94 2.06-2.06.94zm10 10l.94 2.06.94-2.06 2.06-.94-2.06-.94-.94-2.06-.94 2.06-2.06.94z\"/><path d=\"M17.41 7.96l-1.37-1.37c-.4-.4-.92-.59-1.43-.59-.52 0-1.04.2-1.43.59L10.3 9.45l-7.72 7.72c-.78.78-.78 2.05 0 2.83L4 21.41c.39.39.9.59 1.41.59.51 0 1.02-.2 1.41-.59l7.78-7.78 2.81-2.81c.8-.78.8-2.07 0-2.86zM5.41 20L4 18.59l7.72-7.72 1.47 1.35L5.41 20z\"/>\n",
              "  </svg>\n",
              "      </button>\n",
              "      \n",
              "  <style>\n",
              "    .colab-df-container {\n",
              "      display:flex;\n",
              "      flex-wrap:wrap;\n",
              "      gap: 12px;\n",
              "    }\n",
              "\n",
              "    .colab-df-convert {\n",
              "      background-color: #E8F0FE;\n",
              "      border: none;\n",
              "      border-radius: 50%;\n",
              "      cursor: pointer;\n",
              "      display: none;\n",
              "      fill: #1967D2;\n",
              "      height: 32px;\n",
              "      padding: 0 0 0 0;\n",
              "      width: 32px;\n",
              "    }\n",
              "\n",
              "    .colab-df-convert:hover {\n",
              "      background-color: #E2EBFA;\n",
              "      box-shadow: 0px 1px 2px rgba(60, 64, 67, 0.3), 0px 1px 3px 1px rgba(60, 64, 67, 0.15);\n",
              "      fill: #174EA6;\n",
              "    }\n",
              "\n",
              "    [theme=dark] .colab-df-convert {\n",
              "      background-color: #3B4455;\n",
              "      fill: #D2E3FC;\n",
              "    }\n",
              "\n",
              "    [theme=dark] .colab-df-convert:hover {\n",
              "      background-color: #434B5C;\n",
              "      box-shadow: 0px 1px 3px 1px rgba(0, 0, 0, 0.15);\n",
              "      filter: drop-shadow(0px 1px 2px rgba(0, 0, 0, 0.3));\n",
              "      fill: #FFFFFF;\n",
              "    }\n",
              "  </style>\n",
              "\n",
              "      <script>\n",
              "        const buttonEl =\n",
              "          document.querySelector('#df-975bbe7d-2005-4e89-8455-24eaa0872466 button.colab-df-convert');\n",
              "        buttonEl.style.display =\n",
              "          google.colab.kernel.accessAllowed ? 'block' : 'none';\n",
              "\n",
              "        async function convertToInteractive(key) {\n",
              "          const element = document.querySelector('#df-975bbe7d-2005-4e89-8455-24eaa0872466');\n",
              "          const dataTable =\n",
              "            await google.colab.kernel.invokeFunction('convertToInteractive',\n",
              "                                                     [key], {});\n",
              "          if (!dataTable) return;\n",
              "\n",
              "          const docLinkHtml = 'Like what you see? Visit the ' +\n",
              "            '<a target=\"_blank\" href=https://colab.research.google.com/notebooks/data_table.ipynb>data table notebook</a>'\n",
              "            + ' to learn more about interactive tables.';\n",
              "          element.innerHTML = '';\n",
              "          dataTable['output_type'] = 'display_data';\n",
              "          await google.colab.output.renderOutput(dataTable, element);\n",
              "          const docLink = document.createElement('div');\n",
              "          docLink.innerHTML = docLinkHtml;\n",
              "          element.appendChild(docLink);\n",
              "        }\n",
              "      </script>\n",
              "    </div>\n",
              "  </div>\n",
              "  "
            ]
          },
          "metadata": {},
          "execution_count": 27
        }
      ],
      "source": [
        "df[df['Ket']=='Bukan Spam'][['Jumlah_Huruf','Jumlah_Kata','Jumlah_Kalimat']].describe()"
      ]
    },
    {
      "cell_type": "code",
      "execution_count": null,
      "metadata": {
        "id": "KFulI-HjjVNM"
      },
      "outputs": [],
      "source": [
        "import seaborn as sns"
      ]
    },
    {
      "cell_type": "code",
      "execution_count": null,
      "metadata": {
        "colab": {
          "base_uri": "https://localhost:8080/",
          "height": 452
        },
        "id": "USQSOZyOjc2Z",
        "outputId": "5e6b7d3d-8c17-4a2a-83de-844490d49d21"
      },
      "outputs": [
        {
          "output_type": "execute_result",
          "data": {
            "text/plain": [
              "<matplotlib.axes._subplots.AxesSubplot at 0x7ffb233a7f10>"
            ]
          },
          "metadata": {},
          "execution_count": 29
        },
        {
          "output_type": "display_data",
          "data": {
            "text/plain": [
              "<Figure size 864x576 with 1 Axes>"
            ],
            "image/png": "[encoded data removed]"
          },
          "metadata": {
            "needs_background": "light"
          }
        }
      ],
      "source": [
        "plt.figure(figsize=(12,8))\n",
        "sns.histplot(df[df['Ket']=='Spam']['Jumlah_Huruf'], color='Red')\n",
        "sns.histplot(df[df['Ket']=='Bukan Spam']['Jumlah_Huruf'], color='Blue')"
      ]
    },
    {
      "cell_type": "code",
      "execution_count": null,
      "metadata": {
        "colab": {
          "base_uri": "https://localhost:8080/",
          "height": 456
        },
        "id": "ZF9QRp0xjhtm",
        "outputId": "fb4d8706-f712-4236-ccfa-e51e627fe1a9"
      },
      "outputs": [
        {
          "output_type": "execute_result",
          "data": {
            "text/plain": [
              "<matplotlib.axes._subplots.AxesSubplot at 0x7ffb23172b10>"
            ]
          },
          "metadata": {},
          "execution_count": 30
        },
        {
          "output_type": "display_data",
          "data": {
            "text/plain": [
              "<Figure size 864x576 with 1 Axes>"
            ],
            "image/png": "[encoded data removed]"
          },
          "metadata": {
            "needs_background": "light"
          }
        }
      ],
      "source": [
        "plt.figure(figsize=(12,8))\n",
        "sns.histplot(df[df['Ket']=='Spam']['Jumlah_Kata'], color='Black')\n",
        "sns.histplot(df[df['Ket']=='Bukan Spam']['Jumlah_Kata'], color='Pink')"
      ]
    },
    {
      "cell_type": "code",
      "execution_count": null,
      "metadata": {
        "colab": {
          "base_uri": "https://localhost:8080/",
          "height": 453
        },
        "id": "ktGxgLhV-9mC",
        "outputId": "fbb069c1-e591-4bb1-d50a-eb9a041bb1b5"
      },
      "outputs": [
        {
          "output_type": "execute_result",
          "data": {
            "text/plain": [
              "<matplotlib.axes._subplots.AxesSubplot at 0x7ffb23040a10>"
            ]
          },
          "metadata": {},
          "execution_count": 31
        },
        {
          "output_type": "display_data",
          "data": {
            "text/plain": [
              "<Figure size 864x576 with 1 Axes>"
            ],
            "image/png": "[encoded data removed]"
          },
          "metadata": {
            "needs_background": "light"
          }
        }
      ],
      "source": [
        "plt.figure(figsize=(12,8))\n",
        "sns.histplot(df[df['Ket']=='Spam']['Jumlah_Kalimat'], color='Green')\n",
        "sns.histplot(df[df['Ket']=='Bukan Spam']['Jumlah_Kalimat'], color='Yellow')"
      ]
    },
    {
      "cell_type": "code",
      "execution_count": null,
      "metadata": {
        "colab": {
          "base_uri": "https://localhost:8080/",
          "height": 582
        },
        "id": "xnCVz2lsjlM0",
        "outputId": "6626e3ab-bf0b-4fbc-e4c3-e1b290fe351e"
      },
      "outputs": [
        {
          "output_type": "execute_result",
          "data": {
            "text/plain": [
              "<seaborn.axisgrid.PairGrid at 0x7ffb22f64950>"
            ]
          },
          "metadata": {},
          "execution_count": 32
        },
        {
          "output_type": "display_data",
          "data": {
            "text/plain": [
              "<Figure size 818.75x720 with 20 Axes>"
            ],
            "image/png": "[encoded data removed]"
          },
          "metadata": {
            "needs_background": "light"
          }
        }
      ],
      "source": [
        "sns.pairplot(df, hue='Ket')"
      ]
    },
    {
      "cell_type": "code",
      "execution_count": null,
      "metadata": {
        "colab": {
          "base_uri": "https://localhost:8080/",
          "height": 353
        },
        "id": "1zrQiIPSjosb",
        "outputId": "62447db1-ea4e-4434-8402-94008a9d49e6"
      },
      "outputs": [
        {
          "output_type": "execute_result",
          "data": {
            "text/plain": [
              "<matplotlib.axes._subplots.AxesSubplot at 0x7ffb1ff7b810>"
            ]
          },
          "metadata": {},
          "execution_count": 33
        },
        {
          "output_type": "display_data",
          "data": {
            "text/plain": [
              "<Figure size 432x288 with 2 Axes>"
            ],
            "image/png": "[encoded data removed]"
          },
          "metadata": {
            "needs_background": "light"
          }
        }
      ],
      "source": [
        "sns.heatmap(df.corr(), annot=True)"
      ]
    },
    {
      "cell_type": "code",
      "execution_count": null,
      "metadata": {
        "id": "Swic2c13jtgw"
      },
      "outputs": [],
      "source": [
        "from nltk.corpus import stopwords"
      ]
    },
    {
      "cell_type": "code",
      "execution_count": null,
      "metadata": {
        "colab": {
          "base_uri": "https://localhost:8080/"
        },
        "id": "H1RdJojbjxQf",
        "outputId": "91be6dad-176c-4856-e8e9-afbb6aca0c84"
      },
      "outputs": [
        {
          "output_type": "stream",
          "name": "stderr",
          "text": [
            "[nltk_data] Downloading package stopwords to /root/nltk_data...\n",
            "[nltk_data]   Unzipping corpora/stopwords.zip.\n"
          ]
        },
        {
          "output_type": "execute_result",
          "data": {
            "text/plain": [
              "True"
            ]
          },
          "metadata": {},
          "execution_count": 35
        }
      ],
      "source": [
        "import nltk\n",
        "nltk.download('stopwords')"
      ]
    },
    {
      "cell_type": "code",
      "execution_count": null,
      "metadata": {
        "colab": {
          "base_uri": "https://localhost:8080/"
        },
        "id": "b83HPsNgksjT",
        "outputId": "10d58241-bcef-4056-9acc-b0d918b8919b"
      },
      "outputs": [
        {
          "output_type": "execute_result",
          "data": {
            "text/plain": [
              "['ada',\n",
              " 'adalah',\n",
              " 'adanya',\n",
              " 'adapun',\n",
              " 'agak',\n",
              " 'agaknya',\n",
              " 'agar',\n",
              " 'akan',\n",
              " 'akankah',\n",
              " 'akhir',\n",
              " 'akhiri',\n",
              " 'akhirnya',\n",
              " 'aku',\n",
              " 'akulah',\n",
              " 'amat',\n",
              " 'amatlah',\n",
              " 'anda',\n",
              " 'andalah',\n",
              " 'antar',\n",
              " 'antara',\n",
              " 'antaranya',\n",
              " 'apa',\n",
              " 'apaan',\n",
              " 'apabila',\n",
              " 'apakah',\n",
              " 'apalagi',\n",
              " 'apatah',\n",
              " 'artinya',\n",
              " 'asal',\n",
              " 'asalkan',\n",
              " 'atas',\n",
              " 'atau',\n",
              " 'ataukah',\n",
              " 'ataupun',\n",
              " 'awal',\n",
              " 'awalnya',\n",
              " 'bagai',\n",
              " 'bagaikan',\n",
              " 'bagaimana',\n",
              " 'bagaimanakah',\n",
              " 'bagaimanapun',\n",
              " 'bagi',\n",
              " 'bagian',\n",
              " 'bahkan',\n",
              " 'bahwa',\n",
              " 'bahwasanya',\n",
              " 'baik',\n",
              " 'bakal',\n",
              " 'bakalan',\n",
              " 'balik',\n",
              " 'banyak',\n",
              " 'bapak',\n",
              " 'baru',\n",
              " 'bawah',\n",
              " 'beberapa',\n",
              " 'begini',\n",
              " 'beginian',\n",
              " 'beginikah',\n",
              " 'beginilah',\n",
              " 'begitu',\n",
              " 'begitukah',\n",
              " 'begitulah',\n",
              " 'begitupun',\n",
              " 'bekerja',\n",
              " 'belakang',\n",
              " 'belakangan',\n",
              " 'belum',\n",
              " 'belumlah',\n",
              " 'benar',\n",
              " 'benarkah',\n",
              " 'benarlah',\n",
              " 'berada',\n",
              " 'berakhir',\n",
              " 'berakhirlah',\n",
              " 'berakhirnya',\n",
              " 'berapa',\n",
              " 'berapakah',\n",
              " 'berapalah',\n",
              " 'berapapun',\n",
              " 'berarti',\n",
              " 'berawal',\n",
              " 'berbagai',\n",
              " 'berdatangan',\n",
              " 'beri',\n",
              " 'berikan',\n",
              " 'berikut',\n",
              " 'berikutnya',\n",
              " 'berjumlah',\n",
              " 'berkali-kali',\n",
              " 'berkata',\n",
              " 'berkehendak',\n",
              " 'berkeinginan',\n",
              " 'berkenaan',\n",
              " 'berlainan',\n",
              " 'berlalu',\n",
              " 'berlangsung',\n",
              " 'berlebihan',\n",
              " 'bermacam',\n",
              " 'bermacam-macam',\n",
              " 'bermaksud',\n",
              " 'bermula',\n",
              " 'bersama',\n",
              " 'bersama-sama',\n",
              " 'bersiap',\n",
              " 'bersiap-siap',\n",
              " 'bertanya',\n",
              " 'bertanya-tanya',\n",
              " 'berturut',\n",
              " 'berturut-turut',\n",
              " 'bertutur',\n",
              " 'berujar',\n",
              " 'berupa',\n",
              " 'besar',\n",
              " 'betul',\n",
              " 'betulkah',\n",
              " 'biasa',\n",
              " 'biasanya',\n",
              " 'bila',\n",
              " 'bilakah',\n",
              " 'bisa',\n",
              " 'bisakah',\n",
              " 'boleh',\n",
              " 'bolehkah',\n",
              " 'bolehlah',\n",
              " 'buat',\n",
              " 'bukan',\n",
              " 'bukankah',\n",
              " 'bukanlah',\n",
              " 'bukannya',\n",
              " 'bulan',\n",
              " 'bung',\n",
              " 'cara',\n",
              " 'caranya',\n",
              " 'cukup',\n",
              " 'cukupkah',\n",
              " 'cukuplah',\n",
              " 'cuma',\n",
              " 'dahulu',\n",
              " 'dalam',\n",
              " 'dan',\n",
              " 'dapat',\n",
              " 'dari',\n",
              " 'daripada',\n",
              " 'datang',\n",
              " 'dekat',\n",
              " 'demi',\n",
              " 'demikian',\n",
              " 'demikianlah',\n",
              " 'dengan',\n",
              " 'depan',\n",
              " 'di',\n",
              " 'dia',\n",
              " 'diakhiri',\n",
              " 'diakhirinya',\n",
              " 'dialah',\n",
              " 'diantara',\n",
              " 'diantaranya',\n",
              " 'diberi',\n",
              " 'diberikan',\n",
              " 'diberikannya',\n",
              " 'dibuat',\n",
              " 'dibuatnya',\n",
              " 'didapat',\n",
              " 'didatangkan',\n",
              " 'digunakan',\n",
              " 'diibaratkan',\n",
              " 'diibaratkannya',\n",
              " 'diingat',\n",
              " 'diingatkan',\n",
              " 'diinginkan',\n",
              " 'dijawab',\n",
              " 'dijelaskan',\n",
              " 'dijelaskannya',\n",
              " 'dikarenakan',\n",
              " 'dikatakan',\n",
              " 'dikatakannya',\n",
              " 'dikerjakan',\n",
              " 'diketahui',\n",
              " 'diketahuinya',\n",
              " 'dikira',\n",
              " 'dilakukan',\n",
              " 'dilalui',\n",
              " 'dilihat',\n",
              " 'dimaksud',\n",
              " 'dimaksudkan',\n",
              " 'dimaksudkannya',\n",
              " 'dimaksudnya',\n",
              " 'diminta',\n",
              " 'dimintai',\n",
              " 'dimisalkan',\n",
              " 'dimulai',\n",
              " 'dimulailah',\n",
              " 'dimulainya',\n",
              " 'dimungkinkan',\n",
              " 'dini',\n",
              " 'dipastikan',\n",
              " 'diperbuat',\n",
              " 'diperbuatnya',\n",
              " 'dipergunakan',\n",
              " 'diperkirakan',\n",
              " 'diperlihatkan',\n",
              " 'diperlukan',\n",
              " 'diperlukannya',\n",
              " 'dipersoalkan',\n",
              " 'dipertanyakan',\n",
              " 'dipunyai',\n",
              " 'diri',\n",
              " 'dirinya',\n",
              " 'disampaikan',\n",
              " 'disebut',\n",
              " 'disebutkan',\n",
              " 'disebutkannya',\n",
              " 'disini',\n",
              " 'disinilah',\n",
              " 'ditambahkan',\n",
              " 'ditandaskan',\n",
              " 'ditanya',\n",
              " 'ditanyai',\n",
              " 'ditanyakan',\n",
              " 'ditegaskan',\n",
              " 'ditujukan',\n",
              " 'ditunjuk',\n",
              " 'ditunjuki',\n",
              " 'ditunjukkan',\n",
              " 'ditunjukkannya',\n",
              " 'ditunjuknya',\n",
              " 'dituturkan',\n",
              " 'dituturkannya',\n",
              " 'diucapkan',\n",
              " 'diucapkannya',\n",
              " 'diungkapkan',\n",
              " 'dong',\n",
              " 'dua',\n",
              " 'dulu',\n",
              " 'empat',\n",
              " 'enggak',\n",
              " 'enggaknya',\n",
              " 'entah',\n",
              " 'entahlah',\n",
              " 'guna',\n",
              " 'gunakan',\n",
              " 'hal',\n",
              " 'hampir',\n",
              " 'hanya',\n",
              " 'hanyalah',\n",
              " 'hari',\n",
              " 'harus',\n",
              " 'haruslah',\n",
              " 'harusnya',\n",
              " 'hendak',\n",
              " 'hendaklah',\n",
              " 'hendaknya',\n",
              " 'hingga',\n",
              " 'ia',\n",
              " 'ialah',\n",
              " 'ibarat',\n",
              " 'ibaratkan',\n",
              " 'ibaratnya',\n",
              " 'ibu',\n",
              " 'ikut',\n",
              " 'ingat',\n",
              " 'ingat-ingat',\n",
              " 'ingin',\n",
              " 'inginkah',\n",
              " 'inginkan',\n",
              " 'ini',\n",
              " 'inikah',\n",
              " 'inilah',\n",
              " 'itu',\n",
              " 'itukah',\n",
              " 'itulah',\n",
              " 'jadi',\n",
              " 'jadilah',\n",
              " 'jadinya',\n",
              " 'jangan',\n",
              " 'jangankan',\n",
              " 'janganlah',\n",
              " 'jauh',\n",
              " 'jawab',\n",
              " 'jawaban',\n",
              " 'jawabnya',\n",
              " 'jelas',\n",
              " 'jelaskan',\n",
              " 'jelaslah',\n",
              " 'jelasnya',\n",
              " 'jika',\n",
              " 'jikalau',\n",
              " 'juga',\n",
              " 'jumlah',\n",
              " 'jumlahnya',\n",
              " 'justru',\n",
              " 'kala',\n",
              " 'kalau',\n",
              " 'kalaulah',\n",
              " 'kalaupun',\n",
              " 'kalian',\n",
              " 'kami',\n",
              " 'kamilah',\n",
              " 'kamu',\n",
              " 'kamulah',\n",
              " 'kan',\n",
              " 'kapan',\n",
              " 'kapankah',\n",
              " 'kapanpun',\n",
              " 'karena',\n",
              " 'karenanya',\n",
              " 'kasus',\n",
              " 'kata',\n",
              " 'katakan',\n",
              " 'katakanlah',\n",
              " 'katanya',\n",
              " 'ke',\n",
              " 'keadaan',\n",
              " 'kebetulan',\n",
              " 'kecil',\n",
              " 'kedua',\n",
              " 'keduanya',\n",
              " 'keinginan',\n",
              " 'kelamaan',\n",
              " 'kelihatan',\n",
              " 'kelihatannya',\n",
              " 'kelima',\n",
              " 'keluar',\n",
              " 'kembali',\n",
              " 'kemudian',\n",
              " 'kemungkinan',\n",
              " 'kemungkinannya',\n",
              " 'kenapa',\n",
              " 'kepada',\n",
              " 'kepadanya',\n",
              " 'kesampaian',\n",
              " 'keseluruhan',\n",
              " 'keseluruhannya',\n",
              " 'keterlaluan',\n",
              " 'ketika',\n",
              " 'khususnya',\n",
              " 'kini',\n",
              " 'kinilah',\n",
              " 'kira',\n",
              " 'kira-kira',\n",
              " 'kiranya',\n",
              " 'kita',\n",
              " 'kitalah',\n",
              " 'kok',\n",
              " 'kurang',\n",
              " 'lagi',\n",
              " 'lagian',\n",
              " 'lah',\n",
              " 'lain',\n",
              " 'lainnya',\n",
              " 'lalu',\n",
              " 'lama',\n",
              " 'lamanya',\n",
              " 'lanjut',\n",
              " 'lanjutnya',\n",
              " 'lebih',\n",
              " 'lewat',\n",
              " 'lima',\n",
              " 'luar',\n",
              " 'macam',\n",
              " 'maka',\n",
              " 'makanya',\n",
              " 'makin',\n",
              " 'malah',\n",
              " 'malahan',\n",
              " 'mampu',\n",
              " 'mampukah',\n",
              " 'mana',\n",
              " 'manakala',\n",
              " 'manalagi',\n",
              " 'masa',\n",
              " 'masalah',\n",
              " 'masalahnya',\n",
              " 'masih',\n",
              " 'masihkah',\n",
              " 'masing',\n",
              " 'masing-masing',\n",
              " 'mau',\n",
              " 'maupun',\n",
              " 'melainkan',\n",
              " 'melakukan',\n",
              " 'melalui',\n",
              " 'melihat',\n",
              " 'melihatnya',\n",
              " 'memang',\n",
              " 'memastikan',\n",
              " 'memberi',\n",
              " 'memberikan',\n",
              " 'membuat',\n",
              " 'memerlukan',\n",
              " 'memihak',\n",
              " 'meminta',\n",
              " 'memintakan',\n",
              " 'memisalkan',\n",
              " 'memperbuat',\n",
              " 'mempergunakan',\n",
              " 'memperkirakan',\n",
              " 'memperlihatkan',\n",
              " 'mempersiapkan',\n",
              " 'mempersoalkan',\n",
              " 'mempertanyakan',\n",
              " 'mempunyai',\n",
              " 'memulai',\n",
              " 'memungkinkan',\n",
              " 'menaiki',\n",
              " 'menambahkan',\n",
              " 'menandaskan',\n",
              " 'menanti',\n",
              " 'menanti-nanti',\n",
              " 'menantikan',\n",
              " 'menanya',\n",
              " 'menanyai',\n",
              " 'menanyakan',\n",
              " 'mendapat',\n",
              " 'mendapatkan',\n",
              " 'mendatang',\n",
              " 'mendatangi',\n",
              " 'mendatangkan',\n",
              " 'menegaskan',\n",
              " 'mengakhiri',\n",
              " 'mengapa',\n",
              " 'mengatakan',\n",
              " 'mengatakannya',\n",
              " 'mengenai',\n",
              " 'mengerjakan',\n",
              " 'mengetahui',\n",
              " 'menggunakan',\n",
              " 'menghendaki',\n",
              " 'mengibaratkan',\n",
              " 'mengibaratkannya',\n",
              " 'mengingat',\n",
              " 'mengingatkan',\n",
              " 'menginginkan',\n",
              " 'mengira',\n",
              " 'mengucapkan',\n",
              " 'mengucapkannya',\n",
              " 'mengungkapkan',\n",
              " 'menjadi',\n",
              " 'menjawab',\n",
              " 'menjelaskan',\n",
              " 'menuju',\n",
              " 'menunjuk',\n",
              " 'menunjuki',\n",
              " 'menunjukkan',\n",
              " 'menunjuknya',\n",
              " 'menurut',\n",
              " 'menuturkan',\n",
              " 'menyampaikan',\n",
              " 'menyangkut',\n",
              " 'menyatakan',\n",
              " 'menyebutkan',\n",
              " 'menyeluruh',\n",
              " 'menyiapkan',\n",
              " 'merasa',\n",
              " 'mereka',\n",
              " 'merekalah',\n",
              " 'merupakan',\n",
              " 'meski',\n",
              " 'meskipun',\n",
              " 'meyakini',\n",
              " 'meyakinkan',\n",
              " 'minta',\n",
              " 'mirip',\n",
              " 'misal',\n",
              " 'misalkan',\n",
              " 'misalnya',\n",
              " 'mula',\n",
              " 'mulai',\n",
              " 'mulailah',\n",
              " 'mulanya',\n",
              " 'mungkin',\n",
              " 'mungkinkah',\n",
              " 'nah',\n",
              " 'naik',\n",
              " 'namun',\n",
              " 'nanti',\n",
              " 'nantinya',\n",
              " 'nyaris',\n",
              " 'nyatanya',\n",
              " 'oleh',\n",
              " 'olehnya',\n",
              " 'pada',\n",
              " 'padahal',\n",
              " 'padanya',\n",
              " 'pak',\n",
              " 'paling',\n",
              " 'panjang',\n",
              " 'pantas',\n",
              " 'para',\n",
              " 'pasti',\n",
              " 'pastilah',\n",
              " 'penting',\n",
              " 'pentingnya',\n",
              " 'per',\n",
              " 'percuma',\n",
              " 'perlu',\n",
              " 'perlukah',\n",
              " 'perlunya',\n",
              " 'pernah',\n",
              " 'persoalan',\n",
              " 'pertama',\n",
              " 'pertama-tama',\n",
              " 'pertanyaan',\n",
              " 'pertanyakan',\n",
              " 'pihak',\n",
              " 'pihaknya',\n",
              " 'pukul',\n",
              " 'pula',\n",
              " 'pun',\n",
              " 'punya',\n",
              " 'rasa',\n",
              " 'rasanya',\n",
              " 'rata',\n",
              " 'rupanya',\n",
              " 'saat',\n",
              " 'saatnya',\n",
              " 'saja',\n",
              " 'sajalah',\n",
              " 'saling',\n",
              " 'sama',\n",
              " 'sama-sama',\n",
              " 'sambil',\n",
              " 'sampai',\n",
              " 'sampai-sampai',\n",
              " 'sampaikan',\n",
              " 'sana',\n",
              " 'sangat',\n",
              " 'sangatlah',\n",
              " 'satu',\n",
              " 'saya',\n",
              " 'sayalah',\n",
              " 'se',\n",
              " 'sebab',\n",
              " 'sebabnya',\n",
              " 'sebagai',\n",
              " 'sebagaimana',\n",
              " 'sebagainya',\n",
              " 'sebagian',\n",
              " 'sebaik',\n",
              " 'sebaik-baiknya',\n",
              " 'sebaiknya',\n",
              " 'sebaliknya',\n",
              " 'sebanyak',\n",
              " 'sebegini',\n",
              " 'sebegitu',\n",
              " 'sebelum',\n",
              " 'sebelumnya',\n",
              " 'sebenarnya',\n",
              " 'seberapa',\n",
              " 'sebesar',\n",
              " 'sebetulnya',\n",
              " 'sebisanya',\n",
              " 'sebuah',\n",
              " 'sebut',\n",
              " 'sebutlah',\n",
              " 'sebutnya',\n",
              " 'secara',\n",
              " 'secukupnya',\n",
              " 'sedang',\n",
              " 'sedangkan',\n",
              " 'sedemikian',\n",
              " 'sedikit',\n",
              " 'sedikitnya',\n",
              " 'seenaknya',\n",
              " 'segala',\n",
              " 'segalanya',\n",
              " 'segera',\n",
              " 'seharusnya',\n",
              " 'sehingga',\n",
              " 'seingat',\n",
              " 'sejak',\n",
              " 'sejauh',\n",
              " 'sejenak',\n",
              " 'sejumlah',\n",
              " 'sekadar',\n",
              " 'sekadarnya',\n",
              " 'sekali',\n",
              " 'sekali-kali',\n",
              " 'sekalian',\n",
              " 'sekaligus',\n",
              " 'sekalipun',\n",
              " 'sekarang',\n",
              " 'sekarang',\n",
              " 'sekecil',\n",
              " 'seketika',\n",
              " 'sekiranya',\n",
              " 'sekitar',\n",
              " 'sekitarnya',\n",
              " 'sekurang-kurangnya',\n",
              " 'sekurangnya',\n",
              " 'sela',\n",
              " 'selain',\n",
              " 'selaku',\n",
              " 'selalu',\n",
              " 'selama',\n",
              " 'selama-lamanya',\n",
              " 'selamanya',\n",
              " 'selanjutnya',\n",
              " 'seluruh',\n",
              " 'seluruhnya',\n",
              " 'semacam',\n",
              " 'semakin',\n",
              " 'semampu',\n",
              " 'semampunya',\n",
              " 'semasa',\n",
              " 'semasih',\n",
              " 'semata',\n",
              " 'semata-mata',\n",
              " 'semaunya',\n",
              " 'sementara',\n",
              " 'semisal',\n",
              " 'semisalnya',\n",
              " 'sempat',\n",
              " 'semua',\n",
              " 'semuanya',\n",
              " 'semula',\n",
              " 'sendiri',\n",
              " 'sendirian',\n",
              " 'sendirinya',\n",
              " 'seolah',\n",
              " 'seolah-olah',\n",
              " 'seorang',\n",
              " 'sepanjang',\n",
              " 'sepantasnya',\n",
              " 'sepantasnyalah',\n",
              " 'seperlunya',\n",
              " 'seperti',\n",
              " 'sepertinya',\n",
              " 'sepihak',\n",
              " 'sering',\n",
              " 'seringnya',\n",
              " 'serta',\n",
              " 'serupa',\n",
              " 'sesaat',\n",
              " 'sesama',\n",
              " 'sesampai',\n",
              " 'sesegera',\n",
              " 'sesekali',\n",
              " 'seseorang',\n",
              " 'sesuatu',\n",
              " 'sesuatunya',\n",
              " 'sesudah',\n",
              " 'sesudahnya',\n",
              " 'setelah',\n",
              " 'setempat',\n",
              " 'setengah',\n",
              " 'seterusnya',\n",
              " 'setiap',\n",
              " 'setiba',\n",
              " 'setibanya',\n",
              " 'setidak-tidaknya',\n",
              " 'setidaknya',\n",
              " 'setinggi',\n",
              " 'seusai',\n",
              " 'sewaktu',\n",
              " 'siap',\n",
              " 'siapa',\n",
              " 'siapakah',\n",
              " 'siapapun',\n",
              " 'sini',\n",
              " 'sinilah',\n",
              " 'soal',\n",
              " 'soalnya',\n",
              " 'suatu',\n",
              " 'sudah',\n",
              " 'sudahkah',\n",
              " 'sudahlah',\n",
              " 'supaya',\n",
              " 'tadi',\n",
              " 'tadinya',\n",
              " 'tahu',\n",
              " 'tahun',\n",
              " 'tak',\n",
              " 'tambah',\n",
              " 'tambahnya',\n",
              " 'tampak',\n",
              " 'tampaknya',\n",
              " 'tandas',\n",
              " 'tandasnya',\n",
              " 'tanpa',\n",
              " 'tanya',\n",
              " 'tanyakan',\n",
              " 'tanyanya',\n",
              " 'tapi',\n",
              " 'tegas',\n",
              " 'tegasnya',\n",
              " 'telah',\n",
              " 'tempat',\n",
              " 'tengah',\n",
              " 'tentang',\n",
              " 'tentu',\n",
              " 'tentulah',\n",
              " 'tentunya',\n",
              " 'tepat',\n",
              " 'terakhir',\n",
              " 'terasa',\n",
              " 'terbanyak',\n",
              " 'terdahulu',\n",
              " 'terdapat',\n",
              " 'terdiri',\n",
              " 'terhadap',\n",
              " 'terhadapnya',\n",
              " 'teringat',\n",
              " 'teringat-ingat',\n",
              " 'terjadi',\n",
              " 'terjadilah',\n",
              " 'terjadinya',\n",
              " 'terkira',\n",
              " 'terlalu',\n",
              " 'terlebih',\n",
              " 'terlihat',\n",
              " 'termasuk',\n",
              " 'ternyata',\n",
              " 'tersampaikan',\n",
              " 'tersebut',\n",
              " 'tersebutlah',\n",
              " 'tertentu',\n",
              " 'tertuju',\n",
              " 'terus',\n",
              " 'terutama',\n",
              " 'tetap',\n",
              " 'tetapi',\n",
              " 'tiap',\n",
              " 'tiba',\n",
              " 'tiba-tiba',\n",
              " 'tidak',\n",
              " 'tidakkah',\n",
              " 'tidaklah',\n",
              " 'tiga',\n",
              " 'tinggi',\n",
              " 'toh',\n",
              " 'tunjuk',\n",
              " 'turut',\n",
              " 'tutur',\n",
              " 'tuturnya',\n",
              " 'ucap',\n",
              " 'ucapnya',\n",
              " 'ujar',\n",
              " 'ujarnya',\n",
              " 'umum',\n",
              " 'umumnya',\n",
              " 'ungkap',\n",
              " 'ungkapnya',\n",
              " 'untuk',\n",
              " 'usah',\n",
              " 'usai',\n",
              " 'waduh',\n",
              " 'wah',\n",
              " 'wahai',\n",
              " 'waktu',\n",
              " 'waktunya',\n",
              " 'walau',\n",
              " 'walaupun',\n",
              " 'wong',\n",
              " 'yaitu',\n",
              " 'yakin',\n",
              " 'yakni',\n",
              " 'yang']"
            ]
          },
          "metadata": {},
          "execution_count": 36
        }
      ],
      "source": [
        "#Tokenize\n",
        "stopwords.words('indonesian')"
      ]
    },
    {
      "cell_type": "code",
      "execution_count": null,
      "metadata": {
        "colab": {
          "base_uri": "https://localhost:8080/",
          "height": 35
        },
        "id": "h1BRTNUZj7yg",
        "outputId": "9feb095d-1384-46d9-ecea-f6455b34d7e2"
      },
      "outputs": [
        {
          "output_type": "execute_result",
          "data": {
            "text/plain": [
              "'alhamdulillah'"
            ],
            "application/vnd.google.colaboratory.intrinsic+json": {
              "type": "string"
            }
          },
          "metadata": {},
          "execution_count": 37
        }
      ],
      "source": [
        "#Lower Case\n",
        "from nltk.stem.porter import PorterStemmer\n",
        "ps = PorterStemmer()\n",
        "ps.stem('Alhamdulillah')"
      ]
    },
    {
      "cell_type": "code",
      "execution_count": null,
      "metadata": {
        "colab": {
          "base_uri": "https://localhost:8080/",
          "height": 35
        },
        "id": "dJw1tmEAjzDq",
        "outputId": "cc019e82-69b9-4301-b664-c35453c0db0b"
      },
      "outputs": [
        {
          "output_type": "execute_result",
          "data": {
            "text/plain": [
              "'!\"#$%&\\'()*+,-./:;<=>?@[\\\\]^_`{|}~'"
            ],
            "application/vnd.google.colaboratory.intrinsic+json": {
              "type": "string"
            }
          },
          "metadata": {},
          "execution_count": 38
        }
      ],
      "source": [
        "#Special Word\n",
        "import string\n",
        "string.punctuation"
      ]
    },
    {
      "cell_type": "code",
      "execution_count": null,
      "metadata": {
        "id": "tCNAjX2bk5BW"
      },
      "outputs": [],
      "source": [
        "#function remov, tokenize, lower case, dan special word dan stemming\n",
        "def transform_text(text):\n",
        "    text = text.lower()\n",
        "    text = nltk.word_tokenize(text)\n",
        "\n",
        "    y =  []\n",
        "    for i in text:\n",
        "        if i.isalnum():\n",
        "            y.append(i)\n",
        "\n",
        "    text = y[:]\n",
        "    y.clear()\n",
        "\n",
        "    for i in text:\n",
        "        if i not in stopwords.words('indonesian') and i not in string.punctuation:\n",
        "            y.append(i)\n",
        "\n",
        "    text = y[:]\n",
        "    y.clear()\n",
        "\n",
        "    for i in text:\n",
        "        y.append(ps.stem(i))\n",
        "\n",
        "    return \" \". join(y)"
      ]
    },
    {
      "cell_type": "code",
      "execution_count": null,
      "metadata": {
        "colab": {
          "base_uri": "https://localhost:8080/",
          "height": 35
        },
        "id": "OGpR5H_Yk7Vs",
        "outputId": "2c7bb811-6780-4aaf-a821-816d08475dd7"
      },
      "outputs": [
        {
          "output_type": "execute_result",
          "data": {
            "text/plain": [
              "'yeah selesai programku d'"
            ],
            "application/vnd.google.colaboratory.intrinsic+json": {
              "type": "string"
            }
          },
          "metadata": {},
          "execution_count": 40
        }
      ],
      "source": [
        "transform_text('Yeah :) Selesai Programku d')"
      ]
    },
    {
      "cell_type": "code",
      "execution_count": null,
      "metadata": {
        "id": "E7F4Gjiyk9_S"
      },
      "outputs": [],
      "source": [
        "#mamsukkan function ke data\n",
        "df['Transformasi_Teks'] = df['Teks'].apply(transform_text)"
      ]
    },
    {
      "cell_type": "markdown",
      "metadata": {
        "id": "qE4uXqtZbUnt"
      },
      "source": [
        "EDA data yang sudah di transformasi\n",
        "\n",
        "> Indented block\n",
        "\n"
      ]
    },
    {
      "cell_type": "code",
      "execution_count": null,
      "metadata": {
        "colab": {
          "base_uri": "https://localhost:8080/",
          "height": 406
        },
        "id": "EzVQiT_tlGBy",
        "outputId": "b366f17d-a593-46e4-bc72-ecb128d8bbf5"
      },
      "outputs": [
        {
          "output_type": "execute_result",
          "data": {
            "text/plain": [
              "                                                  Teks  label         Ket  \\\n",
              "990            Paspor di perpanjang bayar nya brp nuy?      0  Bukan Spam   \n",
              "342  Kirim ke MANDIRI aja, a/n ARYA. rek: 131-000-7...      1        Spam   \n",
              "733                Dilantai 2 ya tepat diruang skripsi      0  Bukan Spam   \n",
              "641  assalamualaikum pak, mohon maaf saya mau tanya...      0  Bukan Spam   \n",
              "403  Pelanggan Yth. TRI CARE No.XV/2015 PIN_PEMENAN...      1        Spam   \n",
              "\n",
              "     Jumlah_Huruf  Jumlah_Kata  Jumlah_Kalimat  \\\n",
              "990            39            8               1   \n",
              "342            76           16               2   \n",
              "733            35            6               1   \n",
              "641           137           26               3   \n",
              "403           179           28               4   \n",
              "\n",
              "                                     Transformasi_Teks  \n",
              "990                paspor perpanjang bayar nya brp nuy  \n",
              "342          kirim mandiri aja arya rek klo kabarin ya  \n",
              "733                      dilantai 2 ya diruang skripsi  \n",
              "641  assalamualaikum mohon maaf remedi dwm hadir on...  \n",
              "403  pelanggan yth tri care 8jf2177 hadiah 1 unit m...  "
            ],
            "text/html": [
              "\n",
              "  <div id=\"df-dab0b483-7967-4750-b659-72826ff41e2b\">\n",
              "    <div class=\"colab-df-container\">\n",
              "      <div>\n",
              "<style scoped>\n",
              "    .dataframe tbody tr th:only-of-type {\n",
              "        vertical-align: middle;\n",
              "    }\n",
              "\n",
              "    .dataframe tbody tr th {\n",
              "        vertical-align: top;\n",
              "    }\n",
              "\n",
              "    .dataframe thead th {\n",
              "        text-align: right;\n",
              "    }\n",
              "</style>\n",
              "<table border=\"1\" class=\"dataframe\">\n",
              "  <thead>\n",
              "    <tr style=\"text-align: right;\">\n",
              "      <th></th>\n",
              "      <th>Teks</th>\n",
              "      <th>label</th>\n",
              "      <th>Ket</th>\n",
              "      <th>Jumlah_Huruf</th>\n",
              "      <th>Jumlah_Kata</th>\n",
              "      <th>Jumlah_Kalimat</th>\n",
              "      <th>Transformasi_Teks</th>\n",
              "    </tr>\n",
              "  </thead>\n",
              "  <tbody>\n",
              "    <tr>\n",
              "      <th>990</th>\n",
              "      <td>Paspor di perpanjang bayar nya brp nuy?</td>\n",
              "      <td>0</td>\n",
              "      <td>Bukan Spam</td>\n",
              "      <td>39</td>\n",
              "      <td>8</td>\n",
              "      <td>1</td>\n",
              "      <td>paspor perpanjang bayar nya brp nuy</td>\n",
              "    </tr>\n",
              "    <tr>\n",
              "      <th>342</th>\n",
              "      <td>Kirim ke MANDIRI aja, a/n ARYA. rek: 131-000-7...</td>\n",
              "      <td>1</td>\n",
              "      <td>Spam</td>\n",
              "      <td>76</td>\n",
              "      <td>16</td>\n",
              "      <td>2</td>\n",
              "      <td>kirim mandiri aja arya rek klo kabarin ya</td>\n",
              "    </tr>\n",
              "    <tr>\n",
              "      <th>733</th>\n",
              "      <td>Dilantai 2 ya tepat diruang skripsi</td>\n",
              "      <td>0</td>\n",
              "      <td>Bukan Spam</td>\n",
              "      <td>35</td>\n",
              "      <td>6</td>\n",
              "      <td>1</td>\n",
              "      <td>dilantai 2 ya diruang skripsi</td>\n",
              "    </tr>\n",
              "    <tr>\n",
              "      <th>641</th>\n",
              "      <td>assalamualaikum pak, mohon maaf saya mau tanya...</td>\n",
              "      <td>0</td>\n",
              "      <td>Bukan Spam</td>\n",
              "      <td>137</td>\n",
              "      <td>26</td>\n",
              "      <td>3</td>\n",
              "      <td>assalamualaikum mohon maaf remedi dwm hadir on...</td>\n",
              "    </tr>\n",
              "    <tr>\n",
              "      <th>403</th>\n",
              "      <td>Pelanggan Yth. TRI CARE No.XV/2015 PIN_PEMENAN...</td>\n",
              "      <td>1</td>\n",
              "      <td>Spam</td>\n",
              "      <td>179</td>\n",
              "      <td>28</td>\n",
              "      <td>4</td>\n",
              "      <td>pelanggan yth tri care 8jf2177 hadiah 1 unit m...</td>\n",
              "    </tr>\n",
              "  </tbody>\n",
              "</table>\n",
              "</div>\n",
              "      <button class=\"colab-df-convert\" onclick=\"convertToInteractive('df-dab0b483-7967-4750-b659-72826ff41e2b')\"\n",
              "              title=\"Convert this dataframe to an interactive table.\"\n",
              "              style=\"display:none;\">\n",
              "        \n",
              "  <svg xmlns=\"http://www.w3.org/2000/svg\" height=\"24px\"viewBox=\"0 0 24 24\"\n",
              "       width=\"24px\">\n",
              "    <path d=\"M0 0h24v24H0V0z\" fill=\"none\"/>\n",
              "    <path d=\"M18.56 5.44l.94 2.06.94-2.06 2.06-.94-2.06-.94-.94-2.06-.94 2.06-2.06.94zm-11 1L8.5 8.5l.94-2.06 2.06-.94-2.06-.94L8.5 2.5l-.94 2.06-2.06.94zm10 10l.94 2.06.94-2.06 2.06-.94-2.06-.94-.94-2.06-.94 2.06-2.06.94z\"/><path d=\"M17.41 7.96l-1.37-1.37c-.4-.4-.92-.59-1.43-.59-.52 0-1.04.2-1.43.59L10.3 9.45l-7.72 7.72c-.78.78-.78 2.05 0 2.83L4 21.41c.39.39.9.59 1.41.59.51 0 1.02-.2 1.41-.59l7.78-7.78 2.81-2.81c.8-.78.8-2.07 0-2.86zM5.41 20L4 18.59l7.72-7.72 1.47 1.35L5.41 20z\"/>\n",
              "  </svg>\n",
              "      </button>\n",
              "      \n",
              "  <style>\n",
              "    .colab-df-container {\n",
              "      display:flex;\n",
              "      flex-wrap:wrap;\n",
              "      gap: 12px;\n",
              "    }\n",
              "\n",
              "    .colab-df-convert {\n",
              "      background-color: #E8F0FE;\n",
              "      border: none;\n",
              "      border-radius: 50%;\n",
              "      cursor: pointer;\n",
              "      display: none;\n",
              "      fill: #1967D2;\n",
              "      height: 32px;\n",
              "      padding: 0 0 0 0;\n",
              "      width: 32px;\n",
              "    }\n",
              "\n",
              "    .colab-df-convert:hover {\n",
              "      background-color: #E2EBFA;\n",
              "      box-shadow: 0px 1px 2px rgba(60, 64, 67, 0.3), 0px 1px 3px 1px rgba(60, 64, 67, 0.15);\n",
              "      fill: #174EA6;\n",
              "    }\n",
              "\n",
              "    [theme=dark] .colab-df-convert {\n",
              "      background-color: #3B4455;\n",
              "      fill: #D2E3FC;\n",
              "    }\n",
              "\n",
              "    [theme=dark] .colab-df-convert:hover {\n",
              "      background-color: #434B5C;\n",
              "      box-shadow: 0px 1px 3px 1px rgba(0, 0, 0, 0.15);\n",
              "      filter: drop-shadow(0px 1px 2px rgba(0, 0, 0, 0.3));\n",
              "      fill: #FFFFFF;\n",
              "    }\n",
              "  </style>\n",
              "\n",
              "      <script>\n",
              "        const buttonEl =\n",
              "          document.querySelector('#df-dab0b483-7967-4750-b659-72826ff41e2b button.colab-df-convert');\n",
              "        buttonEl.style.display =\n",
              "          google.colab.kernel.accessAllowed ? 'block' : 'none';\n",
              "\n",
              "        async function convertToInteractive(key) {\n",
              "          const element = document.querySelector('#df-dab0b483-7967-4750-b659-72826ff41e2b');\n",
              "          const dataTable =\n",
              "            await google.colab.kernel.invokeFunction('convertToInteractive',\n",
              "                                                     [key], {});\n",
              "          if (!dataTable) return;\n",
              "\n",
              "          const docLinkHtml = 'Like what you see? Visit the ' +\n",
              "            '<a target=\"_blank\" href=https://colab.research.google.com/notebooks/data_table.ipynb>data table notebook</a>'\n",
              "            + ' to learn more about interactive tables.';\n",
              "          element.innerHTML = '';\n",
              "          dataTable['output_type'] = 'display_data';\n",
              "          await google.colab.output.renderOutput(dataTable, element);\n",
              "          const docLink = document.createElement('div');\n",
              "          docLink.innerHTML = docLinkHtml;\n",
              "          element.appendChild(docLink);\n",
              "        }\n",
              "      </script>\n",
              "    </div>\n",
              "  </div>\n",
              "  "
            ]
          },
          "metadata": {},
          "execution_count": 42
        }
      ],
      "source": [
        "df.sample(5)"
      ]
    },
    {
      "cell_type": "code",
      "execution_count": null,
      "metadata": {
        "id": "b-u2FSjNlGlp"
      },
      "outputs": [],
      "source": [
        "from wordcloud import WordCloud\n",
        "wc = WordCloud(width=1000, height=1000, min_font_size=20, background_color='white')"
      ]
    },
    {
      "cell_type": "code",
      "execution_count": null,
      "metadata": {
        "id": "lGJofnn6lRis"
      },
      "outputs": [],
      "source": [
        "spam_wc1 = wc.generate(df[df['label']==1]['Transformasi_Teks'].str.cat(sep=' '))"
      ]
    },
    {
      "cell_type": "code",
      "execution_count": null,
      "metadata": {
        "colab": {
          "base_uri": "https://localhost:8080/",
          "height": 395
        },
        "id": "IFhil6uulq70",
        "outputId": "129df541-050a-42bd-ea1d-17862bbf64ba"
      },
      "outputs": [
        {
          "output_type": "execute_result",
          "data": {
            "text/plain": [
              "<matplotlib.image.AxesImage at 0x7ffb1dec3550>"
            ]
          },
          "metadata": {},
          "execution_count": 45
        },
        {
          "output_type": "display_data",
          "data": {
            "text/plain": [
              "<Figure size 864x432 with 1 Axes>"
            ],
            "image/png": "[encoded data removed]"
          },
          "metadata": {
            "needs_background": "light"
          }
        }
      ],
      "source": [
        "plt.figure(figsize=(12,6))\n",
        "plt.imshow(spam_wc1)"
      ]
    },
    {
      "cell_type": "code",
      "execution_count": null,
      "metadata": {
        "colab": {
          "base_uri": "https://localhost:8080/",
          "height": 395
        },
        "id": "sz1x_Mw6ltT_",
        "outputId": "85cbd037-43d5-4372-c2ba-592e697cd0d0"
      },
      "outputs": [
        {
          "output_type": "execute_result",
          "data": {
            "text/plain": [
              "<matplotlib.image.AxesImage at 0x7ffb1ded9fd0>"
            ]
          },
          "metadata": {},
          "execution_count": 46
        },
        {
          "output_type": "display_data",
          "data": {
            "text/plain": [
              "<Figure size 864x432 with 1 Axes>"
            ],
            "image/png": "[encoded data removed]"
          },
          "metadata": {
            "needs_background": "light"
          }
        }
      ],
      "source": [
        "spam_wc2 = wc.generate(df[df['label']==0]['Transformasi_Teks'].str.cat(sep=' '))\n",
        "plt.figure(figsize=(12,6))\n",
        "plt.imshow(spam_wc2)"
      ]
    },
    {
      "cell_type": "code",
      "execution_count": null,
      "metadata": {
        "id": "jldoiJDvl0ts"
      },
      "outputs": [],
      "source": [
        "spam_corpus = []\n",
        "for msg in df[df['label']==1]['Transformasi_Teks'].tolist():\n",
        "    for word in msg.split():\n",
        "        spam_corpus.append(word)"
      ]
    },
    {
      "cell_type": "code",
      "execution_count": null,
      "metadata": {
        "colab": {
          "base_uri": "https://localhost:8080/"
        },
        "id": "Qu5Ha63jmBmG",
        "outputId": "de3b8197-b75e-4a79-867c-bbbfa88916ef"
      },
      "outputs": [
        {
          "output_type": "execute_result",
          "data": {
            "text/plain": [
              "8829"
            ]
          },
          "metadata": {},
          "execution_count": 48
        }
      ],
      "source": [
        "len(spam_corpus)"
      ]
    },
    {
      "cell_type": "code",
      "execution_count": null,
      "metadata": {
        "id": "scUdnK6NmD1o"
      },
      "outputs": [],
      "source": [
        "from collections import Counter"
      ]
    },
    {
      "cell_type": "code",
      "execution_count": null,
      "metadata": {
        "colab": {
          "base_uri": "https://localhost:8080/",
          "height": 378
        },
        "id": "2ui4W_tSmGFN",
        "outputId": "aac49293-f34c-4793-d585-bb3796dd216b"
      },
      "outputs": [
        {
          "output_type": "stream",
          "name": "stderr",
          "text": [
            "/usr/local/lib/python3.7/dist-packages/seaborn/_decorators.py:43: FutureWarning: Pass the following variables as keyword args: x, y. From version 0.12, the only valid positional argument will be `data`, and passing other arguments without an explicit keyword will result in an error or misinterpretation.\n",
            "  FutureWarning\n"
          ]
        },
        {
          "output_type": "display_data",
          "data": {
            "text/plain": [
              "<Figure size 432x288 with 1 Axes>"
            ],
            "image/png": "[encoded data removed]"
          },
          "metadata": {
            "needs_background": "light"
          }
        }
      ],
      "source": [
        "sns.barplot(pd.DataFrame(Counter(spam_corpus).most_common(30))[0],pd.DataFrame(Counter(spam_corpus).most_common(30))[1])\n",
        "plt.xticks(rotation='vertical')\n",
        "plt.show()"
      ]
    },
    {
      "cell_type": "code",
      "source": [],
      "metadata": {
        "id": "YDccLiwTClhd"
      },
      "execution_count": null,
      "outputs": []
    },
    {
      "cell_type": "code",
      "execution_count": null,
      "metadata": {
        "colab": {
          "base_uri": "https://localhost:8080/"
        },
        "id": "iy6V8lBkmWTg",
        "outputId": "51147219-fe87-4a9b-b992-d78d644bd9c4"
      },
      "outputs": [
        {
          "output_type": "execute_result",
          "data": {
            "text/plain": [
              "4560"
            ]
          },
          "metadata": {},
          "execution_count": 51
        }
      ],
      "source": [
        "privasi_corpus = []\n",
        "for msg in df[df['label']==0]['Transformasi_Teks'].tolist():\n",
        "    for word in msg.split():\n",
        "        privasi_corpus.append(word)\n",
        "len(privasi_corpus)"
      ]
    },
    {
      "cell_type": "code",
      "execution_count": null,
      "metadata": {
        "colab": {
          "base_uri": "https://localhost:8080/",
          "height": 359
        },
        "id": "6iwN-hJhmbA7",
        "outputId": "0477baaf-cdfe-4a7c-bcfb-85c84989ff21"
      },
      "outputs": [
        {
          "output_type": "stream",
          "name": "stderr",
          "text": [
            "/usr/local/lib/python3.7/dist-packages/seaborn/_decorators.py:43: FutureWarning: Pass the following variables as keyword args: x, y. From version 0.12, the only valid positional argument will be `data`, and passing other arguments without an explicit keyword will result in an error or misinterpretation.\n",
            "  FutureWarning\n"
          ]
        },
        {
          "output_type": "display_data",
          "data": {
            "text/plain": [
              "<Figure size 432x288 with 1 Axes>"
            ],
            "image/png": "[encoded data removed]"
          },
          "metadata": {
            "needs_background": "light"
          }
        }
      ],
      "source": [
        "sns.barplot(pd.DataFrame(Counter(privasi_corpus).most_common(30))[0],pd.DataFrame(Counter(privasi_corpus).most_common(30))[1])\n",
        "plt.xticks(rotation='vertical')\n",
        "plt.show()"
      ]
    },
    {
      "cell_type": "code",
      "execution_count": null,
      "metadata": {
        "colab": {
          "base_uri": "https://localhost:8080/",
          "height": 424
        },
        "id": "D3gsCRXBmKzu",
        "outputId": "d90bc100-437f-4a9f-8b8a-aff381b07703"
      },
      "outputs": [
        {
          "output_type": "execute_result",
          "data": {
            "text/plain": [
              "                                                   Teks  label         Ket  \\\n",
              "1138     Yooo sama2, oke nanti aku umumin di grup kelas      0  Bukan Spam   \n",
              "1139  😁 sebelumnya ga ad nulis kerudung. Kirain warn...      0  Bukan Spam   \n",
              "1140                               Mba mau kirim 300 ya      0  Bukan Spam   \n",
              "1141  nama1  beaok bwrangkat pagi...mau cas atay tra...      0  Bukan Spam   \n",
              "1142                         No bri atas nama kamu mana      0  Bukan Spam   \n",
              "\n",
              "      Jumlah_Huruf  Jumlah_Kata  Jumlah_Kalimat  \\\n",
              "1138            46           10               1   \n",
              "1139            52           10               2   \n",
              "1140            20            5               1   \n",
              "1141            51           10               1   \n",
              "1142            26            6               1   \n",
              "\n",
              "                               Transformasi_Teks  \n",
              "1138             yooo sama2 oke umumin grup kela  \n",
              "1139        ga ad nuli kerudung kirain warna jin  \n",
              "1140                            mba kirim 300 ya  \n",
              "1141  nama1 beaok bwrangkat pagi ca atay tranfer  \n",
              "1142                                 no bri nama  "
            ],
            "text/html": [
              "\n",
              "  <div id=\"df-fe5b5502-6bbf-47ae-83e0-9608086fa7af\">\n",
              "    <div class=\"colab-df-container\">\n",
              "      <div>\n",
              "<style scoped>\n",
              "    .dataframe tbody tr th:only-of-type {\n",
              "        vertical-align: middle;\n",
              "    }\n",
              "\n",
              "    .dataframe tbody tr th {\n",
              "        vertical-align: top;\n",
              "    }\n",
              "\n",
              "    .dataframe thead th {\n",
              "        text-align: right;\n",
              "    }\n",
              "</style>\n",
              "<table border=\"1\" class=\"dataframe\">\n",
              "  <thead>\n",
              "    <tr style=\"text-align: right;\">\n",
              "      <th></th>\n",
              "      <th>Teks</th>\n",
              "      <th>label</th>\n",
              "      <th>Ket</th>\n",
              "      <th>Jumlah_Huruf</th>\n",
              "      <th>Jumlah_Kata</th>\n",
              "      <th>Jumlah_Kalimat</th>\n",
              "      <th>Transformasi_Teks</th>\n",
              "    </tr>\n",
              "  </thead>\n",
              "  <tbody>\n",
              "    <tr>\n",
              "      <th>1138</th>\n",
              "      <td>Yooo sama2, oke nanti aku umumin di grup kelas</td>\n",
              "      <td>0</td>\n",
              "      <td>Bukan Spam</td>\n",
              "      <td>46</td>\n",
              "      <td>10</td>\n",
              "      <td>1</td>\n",
              "      <td>yooo sama2 oke umumin grup kela</td>\n",
              "    </tr>\n",
              "    <tr>\n",
              "      <th>1139</th>\n",
              "      <td>😁 sebelumnya ga ad nulis kerudung. Kirain warn...</td>\n",
              "      <td>0</td>\n",
              "      <td>Bukan Spam</td>\n",
              "      <td>52</td>\n",
              "      <td>10</td>\n",
              "      <td>2</td>\n",
              "      <td>ga ad nuli kerudung kirain warna jin</td>\n",
              "    </tr>\n",
              "    <tr>\n",
              "      <th>1140</th>\n",
              "      <td>Mba mau kirim 300 ya</td>\n",
              "      <td>0</td>\n",
              "      <td>Bukan Spam</td>\n",
              "      <td>20</td>\n",
              "      <td>5</td>\n",
              "      <td>1</td>\n",
              "      <td>mba kirim 300 ya</td>\n",
              "    </tr>\n",
              "    <tr>\n",
              "      <th>1141</th>\n",
              "      <td>nama1  beaok bwrangkat pagi...mau cas atay tra...</td>\n",
              "      <td>0</td>\n",
              "      <td>Bukan Spam</td>\n",
              "      <td>51</td>\n",
              "      <td>10</td>\n",
              "      <td>1</td>\n",
              "      <td>nama1 beaok bwrangkat pagi ca atay tranfer</td>\n",
              "    </tr>\n",
              "    <tr>\n",
              "      <th>1142</th>\n",
              "      <td>No bri atas nama kamu mana</td>\n",
              "      <td>0</td>\n",
              "      <td>Bukan Spam</td>\n",
              "      <td>26</td>\n",
              "      <td>6</td>\n",
              "      <td>1</td>\n",
              "      <td>no bri nama</td>\n",
              "    </tr>\n",
              "  </tbody>\n",
              "</table>\n",
              "</div>\n",
              "      <button class=\"colab-df-convert\" onclick=\"convertToInteractive('df-fe5b5502-6bbf-47ae-83e0-9608086fa7af')\"\n",
              "              title=\"Convert this dataframe to an interactive table.\"\n",
              "              style=\"display:none;\">\n",
              "        \n",
              "  <svg xmlns=\"http://www.w3.org/2000/svg\" height=\"24px\"viewBox=\"0 0 24 24\"\n",
              "       width=\"24px\">\n",
              "    <path d=\"M0 0h24v24H0V0z\" fill=\"none\"/>\n",
              "    <path d=\"M18.56 5.44l.94 2.06.94-2.06 2.06-.94-2.06-.94-.94-2.06-.94 2.06-2.06.94zm-11 1L8.5 8.5l.94-2.06 2.06-.94-2.06-.94L8.5 2.5l-.94 2.06-2.06.94zm10 10l.94 2.06.94-2.06 2.06-.94-2.06-.94-.94-2.06-.94 2.06-2.06.94z\"/><path d=\"M17.41 7.96l-1.37-1.37c-.4-.4-.92-.59-1.43-.59-.52 0-1.04.2-1.43.59L10.3 9.45l-7.72 7.72c-.78.78-.78 2.05 0 2.83L4 21.41c.39.39.9.59 1.41.59.51 0 1.02-.2 1.41-.59l7.78-7.78 2.81-2.81c.8-.78.8-2.07 0-2.86zM5.41 20L4 18.59l7.72-7.72 1.47 1.35L5.41 20z\"/>\n",
              "  </svg>\n",
              "      </button>\n",
              "      \n",
              "  <style>\n",
              "    .colab-df-container {\n",
              "      display:flex;\n",
              "      flex-wrap:wrap;\n",
              "      gap: 12px;\n",
              "    }\n",
              "\n",
              "    .colab-df-convert {\n",
              "      background-color: #E8F0FE;\n",
              "      border: none;\n",
              "      border-radius: 50%;\n",
              "      cursor: pointer;\n",
              "      display: none;\n",
              "      fill: #1967D2;\n",
              "      height: 32px;\n",
              "      padding: 0 0 0 0;\n",
              "      width: 32px;\n",
              "    }\n",
              "\n",
              "    .colab-df-convert:hover {\n",
              "      background-color: #E2EBFA;\n",
              "      box-shadow: 0px 1px 2px rgba(60, 64, 67, 0.3), 0px 1px 3px 1px rgba(60, 64, 67, 0.15);\n",
              "      fill: #174EA6;\n",
              "    }\n",
              "\n",
              "    [theme=dark] .colab-df-convert {\n",
              "      background-color: #3B4455;\n",
              "      fill: #D2E3FC;\n",
              "    }\n",
              "\n",
              "    [theme=dark] .colab-df-convert:hover {\n",
              "      background-color: #434B5C;\n",
              "      box-shadow: 0px 1px 3px 1px rgba(0, 0, 0, 0.15);\n",
              "      filter: drop-shadow(0px 1px 2px rgba(0, 0, 0, 0.3));\n",
              "      fill: #FFFFFF;\n",
              "    }\n",
              "  </style>\n",
              "\n",
              "      <script>\n",
              "        const buttonEl =\n",
              "          document.querySelector('#df-fe5b5502-6bbf-47ae-83e0-9608086fa7af button.colab-df-convert');\n",
              "        buttonEl.style.display =\n",
              "          google.colab.kernel.accessAllowed ? 'block' : 'none';\n",
              "\n",
              "        async function convertToInteractive(key) {\n",
              "          const element = document.querySelector('#df-fe5b5502-6bbf-47ae-83e0-9608086fa7af');\n",
              "          const dataTable =\n",
              "            await google.colab.kernel.invokeFunction('convertToInteractive',\n",
              "                                                     [key], {});\n",
              "          if (!dataTable) return;\n",
              "\n",
              "          const docLinkHtml = 'Like what you see? Visit the ' +\n",
              "            '<a target=\"_blank\" href=https://colab.research.google.com/notebooks/data_table.ipynb>data table notebook</a>'\n",
              "            + ' to learn more about interactive tables.';\n",
              "          element.innerHTML = '';\n",
              "          dataTable['output_type'] = 'display_data';\n",
              "          await google.colab.output.renderOutput(dataTable, element);\n",
              "          const docLink = document.createElement('div');\n",
              "          docLink.innerHTML = docLinkHtml;\n",
              "          element.appendChild(docLink);\n",
              "        }\n",
              "      </script>\n",
              "    </div>\n",
              "  </div>\n",
              "  "
            ]
          },
          "metadata": {},
          "execution_count": 53
        }
      ],
      "source": [
        "df.tail()"
      ]
    },
    {
      "cell_type": "code",
      "execution_count": null,
      "metadata": {
        "id": "QBGi9QyJdP7B"
      },
      "outputs": [],
      "source": [
        "#Vectorrizer dan TF_IDF\n",
        "from sklearn.feature_extraction.text import CountVectorizer, TfidfVectorizer\n",
        "cv = CountVectorizer()\n",
        "tfidf = TfidfVectorizer(max_features=3000)"
      ]
    },
    {
      "cell_type": "code",
      "execution_count": null,
      "metadata": {
        "id": "TFPKXkF6du5Y"
      },
      "outputs": [],
      "source": [
        "X = tfidf.fit_transform(df['Transformasi_Teks']).toarray()"
      ]
    },
    {
      "cell_type": "code",
      "execution_count": null,
      "metadata": {
        "colab": {
          "base_uri": "https://localhost:8080/"
        },
        "id": "KHU5QZRVzpXH",
        "outputId": "25455c61-5f30-441f-91e5-9bb0a766d5f6"
      },
      "outputs": [
        {
          "output_type": "execute_result",
          "data": {
            "text/plain": [
              "(1142, 3000)"
            ]
          },
          "metadata": {},
          "execution_count": 56
        }
      ],
      "source": [
        "X.shape"
      ]
    },
    {
      "cell_type": "markdown",
      "metadata": {
        "id": "uDTSqi3_OuxC"
      },
      "source": [
        "**MODEL BUILDING**"
      ]
    },
    {
      "cell_type": "markdown",
      "metadata": {
        "id": "AA7iV46tLntQ"
      },
      "source": [
        "**Train Test Split**"
      ]
    },
    {
      "cell_type": "code",
      "execution_count": null,
      "metadata": {
        "id": "NecT-ArBhjdm"
      },
      "outputs": [],
      "source": [
        "from sklearn.model_selection import train_test_split"
      ]
    },
    {
      "cell_type": "code",
      "execution_count": null,
      "metadata": {
        "id": "pmjClPehL077"
      },
      "outputs": [],
      "source": [
        "X = tfidf.fit_transform(df['Transformasi_Teks']).toarray()"
      ]
    },
    {
      "cell_type": "code",
      "execution_count": null,
      "metadata": {
        "id": "XY-fHCsVL1Ry"
      },
      "outputs": [],
      "source": [
        "Y = df['label'].values"
      ]
    },
    {
      "cell_type": "code",
      "execution_count": null,
      "metadata": {
        "id": "M5Iq8OLchj6s"
      },
      "outputs": [],
      "source": [
        "X_train,X_test,Y_train,Y_test = train_test_split(X,Y,test_size=0.2,random_state=2)"
      ]
    },
    {
      "cell_type": "markdown",
      "metadata": {
        "id": "JUMiFg9PMp7S"
      },
      "source": [
        "Disini Kita akan menggunakan NAIVE BAYES, RANDOM FOREST, dan LOGISTIC REGRESSION"
      ]
    },
    {
      "cell_type": "code",
      "execution_count": null,
      "metadata": {
        "id": "w-tAy0lgGw8w"
      },
      "outputs": [],
      "source": [
        "from sklearn.linear_model import LogisticRegression\n",
        "from sklearn.naive_bayes import MultinomialNB\n",
        "from sklearn.ensemble import RandomForestClassifier\n",
        "from sklearn.model_selection import cross_val_score\n",
        "from sklearn.metrics import accuracy_score,confusion_matrix,precision_score,recall_score,f1_score"
      ]
    },
    {
      "cell_type": "code",
      "execution_count": null,
      "metadata": {
        "id": "vJfbAtItGxKM"
      },
      "outputs": [],
      "source": [
        "mnb = MultinomialNB()\n",
        "lrc = LogisticRegression(solver='liblinear', penalty='l1')\n",
        "rfc = RandomForestClassifier(n_estimators=50, random_state=2)"
      ]
    },
    {
      "cell_type": "markdown",
      "metadata": {
        "id": "98Eqc-gsOSix"
      },
      "source": [
        "Membut Klasifikasi atau Pipeline dengan clfs"
      ]
    },
    {
      "cell_type": "code",
      "execution_count": null,
      "metadata": {
        "colab": {
          "base_uri": "https://localhost:8080/"
        },
        "id": "Ne-0foYWGxNC",
        "outputId": "9d535f7a-1bd8-4b9d-8047-1e6168863bff"
      },
      "outputs": [
        {
          "output_type": "stream",
          "name": "stdout",
          "text": [
            "Naive Bayes: 0.951839 \n",
            "Logisitc Regresion: 0.910225 \n",
            "Random Forest: 0.948567 \n"
          ]
        }
      ],
      "source": [
        "clfs = {\n",
        "    'NB': mnb,\n",
        "    'LR': lrc,\n",
        "    'RF': rfc,\n",
        "}\n",
        "classifiers = [mnb,lrc,rfc]\n",
        "for cls in classifiers:\n",
        "    cls.fit(X_train, Y_train)\n",
        "pipe_dict = {0: \"Naive Bayes\",1:\"Logisitc Regresion\",2:\"Random Forest\"}\n",
        "for i, model in enumerate(classifiers):\n",
        "    cv_score = cross_val_score(model, X_train,Y_train,scoring=\"accuracy\", cv=10)\n",
        "    print(\"%s: %f \" % (pipe_dict[i], cv_score.mean()))"
      ]
    },
    {
      "cell_type": "code",
      "execution_count": null,
      "metadata": {
        "id": "Ik_H8VfdbhFJ"
      },
      "outputs": [],
      "source": [
        "def train_classifier(clf,X_train,Y_train,X_test,Y_test):\n",
        "    clf.fit(X_train,Y_train)\n",
        "    Y_pred = clf.predict(X_test)\n",
        "    accuracy = accuracy_score(Y_test,Y_pred)\n",
        "    precision = precision_score(Y_test,Y_pred)\n",
        "    recall = recall_score(Y_test,Y_pred)\n",
        "    F1 = f1_score(Y_test,Y_pred)\n",
        "\n",
        "\n",
        "    return accuracy,precision,recall,F1,"
      ]
    },
    {
      "cell_type": "code",
      "execution_count": null,
      "metadata": {
        "id": "tnFtDEQzhKk2"
      },
      "outputs": [],
      "source": []
    },
    {
      "cell_type": "code",
      "execution_count": null,
      "metadata": {
        "colab": {
          "base_uri": "https://localhost:8080/"
        },
        "id": "rdt9OfK0cMPe",
        "outputId": "707405c0-434e-4691-fb90-d97f6b833584"
      },
      "outputs": [
        {
          "output_type": "execute_result",
          "data": {
            "text/plain": [
              "(0.9737991266375546,\n",
              " 0.9727272727272728,\n",
              " 0.9727272727272728,\n",
              " 0.9727272727272728)"
            ]
          },
          "metadata": {},
          "execution_count": 65
        }
      ],
      "source": [
        "train_classifier(mnb,X_train,Y_train,X_test,Y_test)"
      ]
    },
    {
      "cell_type": "code",
      "execution_count": null,
      "metadata": {
        "id": "hjYykblMhd4f"
      },
      "outputs": [],
      "source": []
    },
    {
      "cell_type": "code",
      "execution_count": null,
      "metadata": {
        "colab": {
          "base_uri": "https://localhost:8080/"
        },
        "id": "Iec0YMWQGxSg",
        "outputId": "7e679fdc-1cb3-4940-d7f1-bcccf8129f28"
      },
      "outputs": [
        {
          "output_type": "stream",
          "name": "stdout",
          "text": [
            "Algoritma Untuk  NB\n",
            "Accuracy  = 0.9737991266375546\n",
            "Precision = 0.9727272727272728\n",
            "Recall    = 0.9727272727272728\n",
            "F1 Score  = 0.9727272727272728\n",
            "\n",
            "Algoritma Untuk  LR\n",
            "Accuracy  = 0.9301310043668122\n",
            "Precision = 0.9607843137254902\n",
            "Recall    = 0.8909090909090909\n",
            "F1 Score  = 0.9245283018867925\n",
            "\n",
            "Algoritma Untuk  RF\n",
            "Accuracy  = 0.9781659388646288\n",
            "Precision = 0.981651376146789\n",
            "Recall    = 0.9727272727272728\n",
            "F1 Score  = 0.9771689497716896\n",
            "\n"
          ]
        }
      ],
      "source": [
        "accuracy_scores = []\n",
        "precision_scores = []\n",
        "recall_scores = []\n",
        "f1_scores = []\n",
        "\n",
        "for name,clf in clfs.items():\n",
        "\n",
        "    current_accuracy,current_precision,current_recall,current_f1 = train_classifier(clf, X_train,Y_train,X_test,Y_test)\n",
        "\n",
        "    print(\"Algoritma Untuk \",name)\n",
        "    print(\"Accuracy  =\",current_accuracy)\n",
        "    print(\"Precision =\",current_precision)\n",
        "    print(\"Recall    =\",current_recall)\n",
        "    print(\"F1 Score  =\",current_f1)\n",
        "    print(\"\")\n",
        "\n",
        "    accuracy_scores.append(current_accuracy)\n",
        "    precision_scores.append(current_precision)\n",
        "    recall_scores.append(current_recall)\n",
        "    f1_scores.append(current_f1)"
      ]
    },
    {
      "cell_type": "code",
      "execution_count": null,
      "metadata": {
        "id": "K_S0Bl8cVXAU"
      },
      "outputs": [],
      "source": [
        "data = {'Akurasi':accuracy_scores,\n",
        "        'Presisi':precision_scores,\n",
        "        'Recall':recall_scores,\n",
        "        'F1-Score':f1_scores}\n",
        "Results = pd.DataFrame(data, index =[\"Naive Bayes\", \"Regresi Logisitk\",\"Random Forest\"])"
      ]
    },
    {
      "cell_type": "code",
      "execution_count": null,
      "metadata": {
        "colab": {
          "base_uri": "https://localhost:8080/",
          "height": 143
        },
        "id": "bGuCjRQfWfYw",
        "outputId": "04829b8b-3e62-4204-856a-7aeed708e411"
      },
      "outputs": [
        {
          "output_type": "execute_result",
          "data": {
            "text/plain": [
              "                   Akurasi   Presisi    Recall  F1-Score\n",
              "Naive Bayes       0.973799  0.972727  0.972727  0.972727\n",
              "Regresi Logisitk  0.930131  0.960784  0.890909  0.924528\n",
              "Random Forest     0.978166  0.981651  0.972727  0.977169"
            ],
            "text/html": [
              "\n",
              "  <div id=\"df-f8caeeec-e5cb-4acc-a809-0e7b341ed324\">\n",
              "    <div class=\"colab-df-container\">\n",
              "      <div>\n",
              "<style scoped>\n",
              "    .dataframe tbody tr th:only-of-type {\n",
              "        vertical-align: middle;\n",
              "    }\n",
              "\n",
              "    .dataframe tbody tr th {\n",
              "        vertical-align: top;\n",
              "    }\n",
              "\n",
              "    .dataframe thead th {\n",
              "        text-align: right;\n",
              "    }\n",
              "</style>\n",
              "<table border=\"1\" class=\"dataframe\">\n",
              "  <thead>\n",
              "    <tr style=\"text-align: right;\">\n",
              "      <th></th>\n",
              "      <th>Akurasi</th>\n",
              "      <th>Presisi</th>\n",
              "      <th>Recall</th>\n",
              "      <th>F1-Score</th>\n",
              "    </tr>\n",
              "  </thead>\n",
              "  <tbody>\n",
              "    <tr>\n",
              "      <th>Naive Bayes</th>\n",
              "      <td>0.973799</td>\n",
              "      <td>0.972727</td>\n",
              "      <td>0.972727</td>\n",
              "      <td>0.972727</td>\n",
              "    </tr>\n",
              "    <tr>\n",
              "      <th>Regresi Logisitk</th>\n",
              "      <td>0.930131</td>\n",
              "      <td>0.960784</td>\n",
              "      <td>0.890909</td>\n",
              "      <td>0.924528</td>\n",
              "    </tr>\n",
              "    <tr>\n",
              "      <th>Random Forest</th>\n",
              "      <td>0.978166</td>\n",
              "      <td>0.981651</td>\n",
              "      <td>0.972727</td>\n",
              "      <td>0.977169</td>\n",
              "    </tr>\n",
              "  </tbody>\n",
              "</table>\n",
              "</div>\n",
              "      <button class=\"colab-df-convert\" onclick=\"convertToInteractive('df-f8caeeec-e5cb-4acc-a809-0e7b341ed324')\"\n",
              "              title=\"Convert this dataframe to an interactive table.\"\n",
              "              style=\"display:none;\">\n",
              "        \n",
              "  <svg xmlns=\"http://www.w3.org/2000/svg\" height=\"24px\"viewBox=\"0 0 24 24\"\n",
              "       width=\"24px\">\n",
              "    <path d=\"M0 0h24v24H0V0z\" fill=\"none\"/>\n",
              "    <path d=\"M18.56 5.44l.94 2.06.94-2.06 2.06-.94-2.06-.94-.94-2.06-.94 2.06-2.06.94zm-11 1L8.5 8.5l.94-2.06 2.06-.94-2.06-.94L8.5 2.5l-.94 2.06-2.06.94zm10 10l.94 2.06.94-2.06 2.06-.94-2.06-.94-.94-2.06-.94 2.06-2.06.94z\"/><path d=\"M17.41 7.96l-1.37-1.37c-.4-.4-.92-.59-1.43-.59-.52 0-1.04.2-1.43.59L10.3 9.45l-7.72 7.72c-.78.78-.78 2.05 0 2.83L4 21.41c.39.39.9.59 1.41.59.51 0 1.02-.2 1.41-.59l7.78-7.78 2.81-2.81c.8-.78.8-2.07 0-2.86zM5.41 20L4 18.59l7.72-7.72 1.47 1.35L5.41 20z\"/>\n",
              "  </svg>\n",
              "      </button>\n",
              "      \n",
              "  <style>\n",
              "    .colab-df-container {\n",
              "      display:flex;\n",
              "      flex-wrap:wrap;\n",
              "      gap: 12px;\n",
              "    }\n",
              "\n",
              "    .colab-df-convert {\n",
              "      background-color: #E8F0FE;\n",
              "      border: none;\n",
              "      border-radius: 50%;\n",
              "      cursor: pointer;\n",
              "      display: none;\n",
              "      fill: #1967D2;\n",
              "      height: 32px;\n",
              "      padding: 0 0 0 0;\n",
              "      width: 32px;\n",
              "    }\n",
              "\n",
              "    .colab-df-convert:hover {\n",
              "      background-color: #E2EBFA;\n",
              "      box-shadow: 0px 1px 2px rgba(60, 64, 67, 0.3), 0px 1px 3px 1px rgba(60, 64, 67, 0.15);\n",
              "      fill: #174EA6;\n",
              "    }\n",
              "\n",
              "    [theme=dark] .colab-df-convert {\n",
              "      background-color: #3B4455;\n",
              "      fill: #D2E3FC;\n",
              "    }\n",
              "\n",
              "    [theme=dark] .colab-df-convert:hover {\n",
              "      background-color: #434B5C;\n",
              "      box-shadow: 0px 1px 3px 1px rgba(0, 0, 0, 0.15);\n",
              "      filter: drop-shadow(0px 1px 2px rgba(0, 0, 0, 0.3));\n",
              "      fill: #FFFFFF;\n",
              "    }\n",
              "  </style>\n",
              "\n",
              "      <script>\n",
              "        const buttonEl =\n",
              "          document.querySelector('#df-f8caeeec-e5cb-4acc-a809-0e7b341ed324 button.colab-df-convert');\n",
              "        buttonEl.style.display =\n",
              "          google.colab.kernel.accessAllowed ? 'block' : 'none';\n",
              "\n",
              "        async function convertToInteractive(key) {\n",
              "          const element = document.querySelector('#df-f8caeeec-e5cb-4acc-a809-0e7b341ed324');\n",
              "          const dataTable =\n",
              "            await google.colab.kernel.invokeFunction('convertToInteractive',\n",
              "                                                     [key], {});\n",
              "          if (!dataTable) return;\n",
              "\n",
              "          const docLinkHtml = 'Like what you see? Visit the ' +\n",
              "            '<a target=\"_blank\" href=https://colab.research.google.com/notebooks/data_table.ipynb>data table notebook</a>'\n",
              "            + ' to learn more about interactive tables.';\n",
              "          element.innerHTML = '';\n",
              "          dataTable['output_type'] = 'display_data';\n",
              "          await google.colab.output.renderOutput(dataTable, element);\n",
              "          const docLink = document.createElement('div');\n",
              "          docLink.innerHTML = docLinkHtml;\n",
              "          element.appendChild(docLink);\n",
              "        }\n",
              "      </script>\n",
              "    </div>\n",
              "  </div>\n",
              "  "
            ]
          },
          "metadata": {},
          "execution_count": 68
        }
      ],
      "source": [
        "Results"
      ]
    },
    {
      "cell_type": "code",
      "execution_count": null,
      "metadata": {
        "id": "UW5WwnRzegle"
      },
      "outputs": [],
      "source": [
        "predNB = mnb.predict(X_test)\n",
        "predLR = lrc.predict(X_test)\n",
        "predRF = rfc.predict(X_test)"
      ]
    },
    {
      "cell_type": "code",
      "execution_count": null,
      "metadata": {
        "colab": {
          "base_uri": "https://localhost:8080/",
          "height": 334
        },
        "id": "BeLhX9H2h3DE",
        "outputId": "def1bd28-2089-42e5-cc58-5bbc732bc0b7"
      },
      "outputs": [
        {
          "output_type": "stream",
          "name": "stdout",
          "text": [
            "\n",
            " Algortima Naive Bayes \n",
            "\n",
            "AxesSubplot(0.125,0.125;0.62x0.755)\n"
          ]
        },
        {
          "output_type": "display_data",
          "data": {
            "text/plain": [
              "<Figure size 432x288 with 2 Axes>"
            ],
            "image/png": "[encoded data removed]"
          },
          "metadata": {
            "needs_background": "light"
          }
        }
      ],
      "source": [
        "print(\"\\n Algortima Naive Bayes \\n\")\n",
        "print(sns.heatmap(confusion_matrix(Y_test,predNB),annot=True,fmt='g',cmap='Greens',linecolor='black',linewidths=4,))"
      ]
    },
    {
      "cell_type": "code",
      "execution_count": null,
      "metadata": {
        "colab": {
          "base_uri": "https://localhost:8080/",
          "height": 334
        },
        "id": "S7dIB81IGxU4",
        "outputId": "41a31379-39c9-44e7-aa3e-0fe5f65903ec"
      },
      "outputs": [
        {
          "output_type": "stream",
          "name": "stdout",
          "text": [
            "\n",
            " Algortima Naive Regresi Logisitik \n",
            "\n"
          ]
        },
        {
          "output_type": "execute_result",
          "data": {
            "text/plain": [
              "<matplotlib.axes._subplots.AxesSubplot at 0x7ffb1d2a83d0>"
            ]
          },
          "metadata": {},
          "execution_count": 71
        },
        {
          "output_type": "display_data",
          "data": {
            "text/plain": [
              "<Figure size 432x288 with 2 Axes>"
            ],
            "image/png": "[encoded data removed]"
          },
          "metadata": {
            "needs_background": "light"
          }
        }
      ],
      "source": [
        "print(\"\\n Algortima Naive Regresi Logisitik \\n\")\n",
        "sns.heatmap(confusion_matrix(Y_test,predLR),annot=True,fmt='g',cmap='Blues',linecolor='black',linewidths=4)"
      ]
    },
    {
      "cell_type": "code",
      "execution_count": null,
      "metadata": {
        "colab": {
          "base_uri": "https://localhost:8080/",
          "height": 334
        },
        "id": "MQve1EkMGxWw",
        "outputId": "71d7508b-4ab3-419a-dcff-cf13dfc64257"
      },
      "outputs": [
        {
          "output_type": "stream",
          "name": "stdout",
          "text": [
            "\n",
            " Algortima Random Forest Clasiifer \n",
            "\n"
          ]
        },
        {
          "output_type": "execute_result",
          "data": {
            "text/plain": [
              "<matplotlib.axes._subplots.AxesSubplot at 0x7ffb1d2fbf10>"
            ]
          },
          "metadata": {},
          "execution_count": 72
        },
        {
          "output_type": "display_data",
          "data": {
            "text/plain": [
              "<Figure size 432x288 with 2 Axes>"
            ],
            "image/png": "[encoded data removed]"
          },
          "metadata": {
            "needs_background": "light"
          }
        }
      ],
      "source": [
        "print(\"\\n Algortima Random Forest Clasiifer \\n\")\n",
        "sns.heatmap(confusion_matrix(Y_test,predRF),annot=True,fmt='g',cmap='Reds',linecolor='black',linewidths=4)"
      ]
    },
    {
      "cell_type": "code",
      "source": [
        "from sklearn.ensemble import RandomForestClassifier\n",
        "\n",
        "from sklearn.model_selection import RandomizedSearchCV\n",
        "from sklearn.feature_extraction.text import TfidfVectorizer"
      ],
      "metadata": {
        "id": "GKjgJewaLWxQ"
      },
      "execution_count": null,
      "outputs": []
    },
    {
      "cell_type": "code",
      "source": [
        "!pip install jcopml"
      ],
      "metadata": {
        "colab": {
          "base_uri": "https://localhost:8080/"
        },
        "id": "9PKcVsLqL8wr",
        "outputId": "5f52f287-927a-4396-c82f-07bbb910f08d"
      },
      "execution_count": null,
      "outputs": [
        {
          "output_type": "stream",
          "name": "stdout",
          "text": [
            "Looking in indexes: https://pypi.org/simple, https://us-python.pkg.dev/colab-wheels/public/simple/\n",
            "Collecting jcopml\n",
            "  Downloading jcopml-1.2.0.tar.gz (21 kB)\n",
            "Requirement already satisfied: numpy in /usr/local/lib/python3.7/dist-packages (from jcopml) (1.21.6)\n",
            "Requirement already satisfied: scipy in /usr/local/lib/python3.7/dist-packages (from jcopml) (1.7.3)\n",
            "Requirement already satisfied: pandas in /usr/local/lib/python3.7/dist-packages (from jcopml) (1.3.5)\n",
            "Requirement already satisfied: scikit-learn in /usr/local/lib/python3.7/dist-packages (from jcopml) (1.0.2)\n",
            "Requirement already satisfied: matplotlib in /usr/local/lib/python3.7/dist-packages (from jcopml) (3.2.2)\n",
            "Requirement already satisfied: seaborn in /usr/local/lib/python3.7/dist-packages (from jcopml) (0.11.2)\n",
            "Collecting scikit-optimize\n",
            "  Downloading scikit_optimize-0.9.0-py2.py3-none-any.whl (100 kB)\n",
            "\u001b[K     |████████████████████████████████| 100 kB 5.0 MB/s \n",
            "\u001b[?25hRequirement already satisfied: ipywidgets in /usr/local/lib/python3.7/dist-packages (from jcopml) (7.7.1)\n",
            "Requirement already satisfied: statsmodels in /usr/local/lib/python3.7/dist-packages (from jcopml) (0.12.2)\n",
            "Requirement already satisfied: ipython>=4.0.0 in /usr/local/lib/python3.7/dist-packages (from ipywidgets->jcopml) (7.9.0)\n",
            "Requirement already satisfied: ipykernel>=4.5.1 in /usr/local/lib/python3.7/dist-packages (from ipywidgets->jcopml) (5.3.4)\n",
            "Requirement already satisfied: jupyterlab-widgets>=1.0.0 in /usr/local/lib/python3.7/dist-packages (from ipywidgets->jcopml) (3.0.3)\n",
            "Requirement already satisfied: widgetsnbextension~=3.6.0 in /usr/local/lib/python3.7/dist-packages (from ipywidgets->jcopml) (3.6.1)\n",
            "Requirement already satisfied: ipython-genutils~=0.2.0 in /usr/local/lib/python3.7/dist-packages (from ipywidgets->jcopml) (0.2.0)\n",
            "Requirement already satisfied: traitlets>=4.3.1 in /usr/local/lib/python3.7/dist-packages (from ipywidgets->jcopml) (5.1.1)\n",
            "Requirement already satisfied: tornado>=4.2 in /usr/local/lib/python3.7/dist-packages (from ipykernel>=4.5.1->ipywidgets->jcopml) (6.0.4)\n",
            "Requirement already satisfied: jupyter-client in /usr/local/lib/python3.7/dist-packages (from ipykernel>=4.5.1->ipywidgets->jcopml) (6.1.12)\n",
            "Requirement already satisfied: pickleshare in /usr/local/lib/python3.7/dist-packages (from ipython>=4.0.0->ipywidgets->jcopml) (0.7.5)\n",
            "Requirement already satisfied: setuptools>=18.5 in /usr/local/lib/python3.7/dist-packages (from ipython>=4.0.0->ipywidgets->jcopml) (57.4.0)\n",
            "Requirement already satisfied: prompt-toolkit<2.1.0,>=2.0.0 in /usr/local/lib/python3.7/dist-packages (from ipython>=4.0.0->ipywidgets->jcopml) (2.0.10)\n",
            "Requirement already satisfied: pygments in /usr/local/lib/python3.7/dist-packages (from ipython>=4.0.0->ipywidgets->jcopml) (2.6.1)\n",
            "Requirement already satisfied: backcall in /usr/local/lib/python3.7/dist-packages (from ipython>=4.0.0->ipywidgets->jcopml) (0.2.0)\n",
            "Requirement already satisfied: decorator in /usr/local/lib/python3.7/dist-packages (from ipython>=4.0.0->ipywidgets->jcopml) (4.4.2)\n",
            "Collecting jedi>=0.10\n",
            "  Downloading jedi-0.18.1-py2.py3-none-any.whl (1.6 MB)\n",
            "\u001b[K     |████████████████████████████████| 1.6 MB 38.9 MB/s \n",
            "\u001b[?25hRequirement already satisfied: pexpect in /usr/local/lib/python3.7/dist-packages (from ipython>=4.0.0->ipywidgets->jcopml) (4.8.0)\n",
            "Requirement already satisfied: parso<0.9.0,>=0.8.0 in /usr/local/lib/python3.7/dist-packages (from jedi>=0.10->ipython>=4.0.0->ipywidgets->jcopml) (0.8.3)\n",
            "Requirement already satisfied: six>=1.9.0 in /usr/local/lib/python3.7/dist-packages (from prompt-toolkit<2.1.0,>=2.0.0->ipython>=4.0.0->ipywidgets->jcopml) (1.15.0)\n",
            "Requirement already satisfied: wcwidth in /usr/local/lib/python3.7/dist-packages (from prompt-toolkit<2.1.0,>=2.0.0->ipython>=4.0.0->ipywidgets->jcopml) (0.2.5)\n",
            "Requirement already satisfied: notebook>=4.4.1 in /usr/local/lib/python3.7/dist-packages (from widgetsnbextension~=3.6.0->ipywidgets->jcopml) (5.7.16)\n",
            "Requirement already satisfied: jupyter-core>=4.4.0 in /usr/local/lib/python3.7/dist-packages (from notebook>=4.4.1->widgetsnbextension~=3.6.0->ipywidgets->jcopml) (4.11.2)\n",
            "Requirement already satisfied: jinja2<=3.0.0 in /usr/local/lib/python3.7/dist-packages (from notebook>=4.4.1->widgetsnbextension~=3.6.0->ipywidgets->jcopml) (2.11.3)\n",
            "Requirement already satisfied: nbformat in /usr/local/lib/python3.7/dist-packages (from notebook>=4.4.1->widgetsnbextension~=3.6.0->ipywidgets->jcopml) (5.7.0)\n",
            "Requirement already satisfied: nbconvert<6.0 in /usr/local/lib/python3.7/dist-packages (from notebook>=4.4.1->widgetsnbextension~=3.6.0->ipywidgets->jcopml) (5.6.1)\n",
            "Requirement already satisfied: Send2Trash in /usr/local/lib/python3.7/dist-packages (from notebook>=4.4.1->widgetsnbextension~=3.6.0->ipywidgets->jcopml) (1.8.0)\n",
            "Requirement already satisfied: prometheus-client in /usr/local/lib/python3.7/dist-packages (from notebook>=4.4.1->widgetsnbextension~=3.6.0->ipywidgets->jcopml) (0.15.0)\n",
            "Requirement already satisfied: terminado>=0.8.1 in /usr/local/lib/python3.7/dist-packages (from notebook>=4.4.1->widgetsnbextension~=3.6.0->ipywidgets->jcopml) (0.13.3)\n",
            "Requirement already satisfied: pyzmq>=17 in /usr/local/lib/python3.7/dist-packages (from notebook>=4.4.1->widgetsnbextension~=3.6.0->ipywidgets->jcopml) (23.2.1)\n",
            "Requirement already satisfied: MarkupSafe>=0.23 in /usr/local/lib/python3.7/dist-packages (from jinja2<=3.0.0->notebook>=4.4.1->widgetsnbextension~=3.6.0->ipywidgets->jcopml) (2.0.1)\n",
            "Requirement already satisfied: python-dateutil>=2.1 in /usr/local/lib/python3.7/dist-packages (from jupyter-client->ipykernel>=4.5.1->ipywidgets->jcopml) (2.8.2)\n",
            "Requirement already satisfied: testpath in /usr/local/lib/python3.7/dist-packages (from nbconvert<6.0->notebook>=4.4.1->widgetsnbextension~=3.6.0->ipywidgets->jcopml) (0.6.0)\n",
            "Requirement already satisfied: pandocfilters>=1.4.1 in /usr/local/lib/python3.7/dist-packages (from nbconvert<6.0->notebook>=4.4.1->widgetsnbextension~=3.6.0->ipywidgets->jcopml) (1.5.0)\n",
            "Requirement already satisfied: entrypoints>=0.2.2 in /usr/local/lib/python3.7/dist-packages (from nbconvert<6.0->notebook>=4.4.1->widgetsnbextension~=3.6.0->ipywidgets->jcopml) (0.4)\n",
            "Requirement already satisfied: mistune<2,>=0.8.1 in /usr/local/lib/python3.7/dist-packages (from nbconvert<6.0->notebook>=4.4.1->widgetsnbextension~=3.6.0->ipywidgets->jcopml) (0.8.4)\n",
            "Requirement already satisfied: bleach in /usr/local/lib/python3.7/dist-packages (from nbconvert<6.0->notebook>=4.4.1->widgetsnbextension~=3.6.0->ipywidgets->jcopml) (5.0.1)\n",
            "Requirement already satisfied: defusedxml in /usr/local/lib/python3.7/dist-packages (from nbconvert<6.0->notebook>=4.4.1->widgetsnbextension~=3.6.0->ipywidgets->jcopml) (0.7.1)\n",
            "Requirement already satisfied: fastjsonschema in /usr/local/lib/python3.7/dist-packages (from nbformat->notebook>=4.4.1->widgetsnbextension~=3.6.0->ipywidgets->jcopml) (2.16.2)\n",
            "Requirement already satisfied: importlib-metadata>=3.6 in /usr/local/lib/python3.7/dist-packages (from nbformat->notebook>=4.4.1->widgetsnbextension~=3.6.0->ipywidgets->jcopml) (4.13.0)\n",
            "Requirement already satisfied: jsonschema>=2.6 in /usr/local/lib/python3.7/dist-packages (from nbformat->notebook>=4.4.1->widgetsnbextension~=3.6.0->ipywidgets->jcopml) (4.3.3)\n",
            "Requirement already satisfied: typing-extensions>=3.6.4 in /usr/local/lib/python3.7/dist-packages (from importlib-metadata>=3.6->nbformat->notebook>=4.4.1->widgetsnbextension~=3.6.0->ipywidgets->jcopml) (4.1.1)\n",
            "Requirement already satisfied: zipp>=0.5 in /usr/local/lib/python3.7/dist-packages (from importlib-metadata>=3.6->nbformat->notebook>=4.4.1->widgetsnbextension~=3.6.0->ipywidgets->jcopml) (3.10.0)\n",
            "Requirement already satisfied: importlib-resources>=1.4.0 in /usr/local/lib/python3.7/dist-packages (from jsonschema>=2.6->nbformat->notebook>=4.4.1->widgetsnbextension~=3.6.0->ipywidgets->jcopml) (5.10.0)\n",
            "Requirement already satisfied: attrs>=17.4.0 in /usr/local/lib/python3.7/dist-packages (from jsonschema>=2.6->nbformat->notebook>=4.4.1->widgetsnbextension~=3.6.0->ipywidgets->jcopml) (22.1.0)\n",
            "Requirement already satisfied: pyrsistent!=0.17.0,!=0.17.1,!=0.17.2,>=0.14.0 in /usr/local/lib/python3.7/dist-packages (from jsonschema>=2.6->nbformat->notebook>=4.4.1->widgetsnbextension~=3.6.0->ipywidgets->jcopml) (0.18.1)\n",
            "Requirement already satisfied: ptyprocess in /usr/local/lib/python3.7/dist-packages (from terminado>=0.8.1->notebook>=4.4.1->widgetsnbextension~=3.6.0->ipywidgets->jcopml) (0.7.0)\n",
            "Requirement already satisfied: webencodings in /usr/local/lib/python3.7/dist-packages (from bleach->nbconvert<6.0->notebook>=4.4.1->widgetsnbextension~=3.6.0->ipywidgets->jcopml) (0.5.1)\n",
            "Requirement already satisfied: pyparsing!=2.0.4,!=2.1.2,!=2.1.6,>=2.0.1 in /usr/local/lib/python3.7/dist-packages (from matplotlib->jcopml) (3.0.9)\n",
            "Requirement already satisfied: cycler>=0.10 in /usr/local/lib/python3.7/dist-packages (from matplotlib->jcopml) (0.11.0)\n",
            "Requirement already satisfied: kiwisolver>=1.0.1 in /usr/local/lib/python3.7/dist-packages (from matplotlib->jcopml) (1.4.4)\n",
            "Requirement already satisfied: pytz>=2017.3 in /usr/local/lib/python3.7/dist-packages (from pandas->jcopml) (2022.5)\n",
            "Requirement already satisfied: joblib>=0.11 in /usr/local/lib/python3.7/dist-packages (from scikit-learn->jcopml) (1.2.0)\n",
            "Requirement already satisfied: threadpoolctl>=2.0.0 in /usr/local/lib/python3.7/dist-packages (from scikit-learn->jcopml) (3.1.0)\n",
            "Collecting pyaml>=16.9\n",
            "  Downloading pyaml-21.10.1-py2.py3-none-any.whl (24 kB)\n",
            "Requirement already satisfied: PyYAML in /usr/local/lib/python3.7/dist-packages (from pyaml>=16.9->scikit-optimize->jcopml) (6.0)\n",
            "Requirement already satisfied: patsy>=0.5 in /usr/local/lib/python3.7/dist-packages (from statsmodels->jcopml) (0.5.3)\n",
            "Building wheels for collected packages: jcopml\n",
            "  Building wheel for jcopml (setup.py) ... \u001b[?25l\u001b[?25hdone\n",
            "  Created wheel for jcopml: filename=jcopml-1.2.0-py2.py3-none-any.whl size=32032 sha256=7fa7a86132b298bce33e63fb7c5f3ed7c447e7140340a7e721a4a2056117862f\n",
            "  Stored in directory: /root/.cache/pip/wheels/da/9c/84/0670d7771fe7a5383c1ee4506df03e664d1f9abeb54db10e1d\n",
            "Successfully built jcopml\n",
            "Installing collected packages: jedi, pyaml, scikit-optimize, jcopml\n",
            "Successfully installed jcopml-1.2.0 jedi-0.18.1 pyaml-21.10.1 scikit-optimize-0.9.0\n"
          ]
        }
      ]
    },
    {
      "cell_type": "code",
      "source": [
        "import nltk\n",
        "nltk.download('stopwords')\n",
        "from sklearn.ensemble import RandomForestClassifier\n",
        "from sklearn.model_selection import RandomizedSearchCV\n",
        "from jcopml.tuning import random_search_params as rsp\n",
        "from sklearn.feature_extraction.text import TfidfVectorizer\n",
        "from sklearn.pipeline import Pipeline\n",
        "from jcopml.pipeline import num_pipe, cat_pipe\n",
        "from nltk.tokenize import word_tokenize\n",
        "from nltk.corpus import stopwords\n",
        "from string import punctuation\n",
        "sw_indo = stopwords.words(\"indonesian\") + list(punctuation)\n",
        "rsp.rf_params"
      ],
      "metadata": {
        "colab": {
          "base_uri": "https://localhost:8080/"
        },
        "id": "_ID9a4LoLcHG",
        "outputId": "cf89b600-4810-4f56-ee97-712a741cbf43"
      },
      "execution_count": null,
      "outputs": [
        {
          "output_type": "stream",
          "name": "stderr",
          "text": [
            "[nltk_data] Downloading package stopwords to /root/nltk_data...\n",
            "[nltk_data]   Package stopwords is already up-to-date!\n"
          ]
        },
        {
          "output_type": "execute_result",
          "data": {
            "text/plain": [
              "{'algo__n_estimators': Integer(low=100, high=200),\n",
              " 'algo__max_depth': Integer(low=20, high=80),\n",
              " 'algo__max_features': Real(low=0.1, high=1, prior='uniform'),\n",
              " 'algo__min_samples_leaf': Integer(low=1, high=20)}"
            ]
          },
          "metadata": {},
          "execution_count": 75
        }
      ]
    },
    {
      "cell_type": "code",
      "source": [
        "X = df['Teks']\n",
        "y = df['label']\n",
        "\n",
        "X_train, X_test, y_train, y_test = train_test_split(X, y, test_size=0.2, stratify=y, random_state=42)\n",
        "X_train.shape, X_test.shape, y_train.shape, y_test.shape"
      ],
      "metadata": {
        "colab": {
          "base_uri": "https://localhost:8080/"
        },
        "id": "bXnCR032O-Zr",
        "outputId": "887e9d94-61f3-4910-89df-1a39cfe72ecc"
      },
      "execution_count": null,
      "outputs": [
        {
          "output_type": "execute_result",
          "data": {
            "text/plain": [
              "((913,), (229,), (913,), (229,))"
            ]
          },
          "metadata": {},
          "execution_count": 76
        }
      ]
    },
    {
      "cell_type": "code",
      "source": [
        "pipeline = Pipeline([\n",
        "    ('prep', TfidfVectorizer(tokenizer=word_tokenize, stop_words=sw_indo)),\n",
        "    ('algo', RandomForestClassifier(n_jobs=-1, random_state=42))\n",
        "])\n",
        "\n",
        "model = RandomizedSearchCV(pipeline, rsp.rf_params, cv=3, n_iter=50, n_jobs=-1, verbose=1, random_state=42)\n",
        "model.fit(X_train, y_train)\n",
        "\n",
        "print(model.best_params_)\n",
        "print(model.score(X_train, y_train), model.best_score_, model.score(X_test, y_test))"
      ],
      "metadata": {
        "colab": {
          "base_uri": "https://localhost:8080/"
        },
        "id": "AYdV4UciMwOl",
        "outputId": "4bc696cb-d059-4189-9612-2b9f210a7643"
      },
      "execution_count": null,
      "outputs": [
        {
          "output_type": "stream",
          "name": "stdout",
          "text": [
            "Fitting 3 folds for each of 50 candidates, totalling 150 fits\n"
          ]
        },
        {
          "output_type": "stream",
          "name": "stderr",
          "text": [
            "/usr/local/lib/python3.7/dist-packages/sklearn/feature_extraction/text.py:401: UserWarning: Your stop_words may be inconsistent with your preprocessing. Tokenizing the stop words generated tokens ['``'] not in stop_words.\n",
            "  % sorted(inconsistent)\n"
          ]
        },
        {
          "output_type": "stream",
          "name": "stdout",
          "text": [
            "{'algo__max_depth': 22, 'algo__max_features': 0.1185260448662222, 'algo__min_samples_leaf': 2, 'algo__n_estimators': 187}\n",
            "0.9485213581599123 0.9145707506471096 0.9301310043668122\n"
          ]
        }
      ]
    },
    {
      "cell_type": "markdown",
      "source": [
        "**SANITY CHECK**"
      ],
      "metadata": {
        "id": "1LOn3AIfP7B9"
      }
    },
    {
      "cell_type": "code",
      "source": [
        "text = [\"Cash back bonus deposit 1% dengan minimal deposit 1juta berlaku kelipatan hingga 10juta. Khusus hari ini saja. Download PAYPOIN\"]"
      ],
      "metadata": {
        "id": "CYNjUE0DQFQx"
      },
      "execution_count": null,
      "outputs": []
    },
    {
      "cell_type": "code",
      "source": [
        "print(model.predict(text))\n",
        "print(model.predict_proba(text))"
      ],
      "metadata": {
        "colab": {
          "base_uri": "https://localhost:8080/"
        },
        "id": "7VJMJs8qQghf",
        "outputId": "8093a4cb-b9da-4ffb-8feb-7374bcd54754"
      },
      "execution_count": null,
      "outputs": [
        {
          "output_type": "stream",
          "name": "stdout",
          "text": [
            "[1]\n",
            "[[0.48838605 0.51161395]]\n"
          ]
        }
      ]
    },
    {
      "cell_type": "code",
      "source": [],
      "metadata": {
        "id": "QeeoDI6pIH1Q"
      },
      "execution_count": null,
      "outputs": []
    },
    {
      "cell_type": "code",
      "source": [
        "import nltk\n",
        "nltk.download('stopwords')\n",
        "from sklearn.ensemble import RandomForestClassifier\n",
        "from sklearn.model_selection import RandomizedSearchCV\n",
        "from jcopml.tuning import random_search_params as rsp\n",
        "from sklearn.feature_extraction.text import TfidfVectorizer\n",
        "from sklearn.pipeline import Pipeline\n",
        "from jcopml.pipeline import num_pipe, cat_pipe\n",
        "from nltk.tokenize import word_tokenize\n",
        "from nltk.corpus import stopwords\n",
        "from string import punctuation\n",
        "sw_indo = stopwords.words(\"indonesian\") + list(punctuation)\n",
        "rsp.e"
      ],
      "metadata": {
        "colab": {
          "base_uri": "https://localhost:8080/",
          "height": 237
        },
        "id": "-lTDnkVYIH9z",
        "outputId": "d24f6777-71df-4b8d-c188-48c6e5019fe5"
      },
      "execution_count": null,
      "outputs": [
        {
          "output_type": "stream",
          "name": "stderr",
          "text": [
            "[nltk_data] Downloading package stopwords to /root/nltk_data...\n",
            "[nltk_data]   Package stopwords is already up-to-date!\n"
          ]
        },
        {
          "output_type": "error",
          "ename": "AttributeError",
          "evalue": "ignored",
          "traceback": [
            "\u001b[0;31m---------------------------------------------------------------------------\u001b[0m",
            "\u001b[0;31mAttributeError\u001b[0m                            Traceback (most recent call last)",
            "\u001b[0;32m<ipython-input-80-2309da49eeab>\u001b[0m in \u001b[0;36m<module>\u001b[0;34m\u001b[0m\n\u001b[1;32m     11\u001b[0m \u001b[0;32mfrom\u001b[0m \u001b[0mstring\u001b[0m \u001b[0;32mimport\u001b[0m \u001b[0mpunctuation\u001b[0m\u001b[0;34m\u001b[0m\u001b[0;34m\u001b[0m\u001b[0m\n\u001b[1;32m     12\u001b[0m \u001b[0msw_indo\u001b[0m \u001b[0;34m=\u001b[0m \u001b[0mstopwords\u001b[0m\u001b[0;34m.\u001b[0m\u001b[0mwords\u001b[0m\u001b[0;34m(\u001b[0m\u001b[0;34m\"indonesian\"\u001b[0m\u001b[0;34m)\u001b[0m \u001b[0;34m+\u001b[0m \u001b[0mlist\u001b[0m\u001b[0;34m(\u001b[0m\u001b[0mpunctuation\u001b[0m\u001b[0;34m)\u001b[0m\u001b[0;34m\u001b[0m\u001b[0;34m\u001b[0m\u001b[0m\n\u001b[0;32m---> 13\u001b[0;31m \u001b[0mrsp\u001b[0m\u001b[0;34m.\u001b[0m\u001b[0me\u001b[0m\u001b[0;34m\u001b[0m\u001b[0;34m\u001b[0m\u001b[0m\n\u001b[0m",
            "\u001b[0;31mAttributeError\u001b[0m: 'RandomSearchParams' object has no attribute 'e'"
          ]
        }
      ]
    },
    {
      "cell_type": "code",
      "source": [],
      "metadata": {
        "id": "YOG4orJHIa7F"
      },
      "execution_count": null,
      "outputs": []
    }
  ],
  "metadata": {
    "colab": {
      "provenance": [],
      "include_colab_link": true
    },
    "kernelspec": {
      "display_name": "Python 3",
      "name": "python3"
    },
    "language_info": {
      "name": "python"
    }
  },
  "nbformat": 4,
  "nbformat_minor": 0
}